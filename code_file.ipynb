{
 "cells": [
  {
   "cell_type": "code",
   "execution_count": 72,
   "id": "bacaa361",
   "metadata": {
    "ExecuteTime": {
     "end_time": "2022-02-27T00:37:16.384103Z",
     "start_time": "2022-02-27T00:37:16.289046Z"
    }
   },
   "outputs": [],
   "source": [
    "import pandas as pd\n",
    "import numpy as np\n",
    "import seaborn as sns\n",
    "import matplotlib.pyplot as plt\n",
    "import scipy.stats as stats\n",
    "from warnings import filterwarnings\n",
    "pd.set_option(\"display.float_format\", lambda x:\"%.2f\" %x)\n",
    "sns.set(color_codes=True)\n",
    "sns.set_palette(\"deep\")\n",
    "%matplotlib inline\n",
    "filterwarnings(\"ignore\")"
   ]
  },
  {
   "cell_type": "markdown",
   "id": "f2a1b314",
   "metadata": {},
   "source": [
    "# Wholesale Customer Data"
   ]
  },
  {
   "cell_type": "code",
   "execution_count": 230,
   "id": "873d477d",
   "metadata": {
    "ExecuteTime": {
     "end_time": "2022-02-27T14:04:05.945721Z",
     "start_time": "2022-02-27T14:03:50.699882Z"
    }
   },
   "outputs": [],
   "source": [
    "wcad = pd.read_csv(\"Wholesale Customers Data.csv\")"
   ]
  },
  {
   "cell_type": "markdown",
   "id": "bc22041b",
   "metadata": {},
   "source": [
    "<b>Exploratory Data Analysis"
   ]
  },
  {
   "cell_type": "code",
   "execution_count": 231,
   "id": "51cab108",
   "metadata": {
    "ExecuteTime": {
     "end_time": "2022-02-27T14:04:12.158288Z",
     "start_time": "2022-02-27T14:04:10.900972Z"
    }
   },
   "outputs": [
    {
     "data": {
      "text/html": [
       "<div>\n",
       "<style scoped>\n",
       "    .dataframe tbody tr th:only-of-type {\n",
       "        vertical-align: middle;\n",
       "    }\n",
       "\n",
       "    .dataframe tbody tr th {\n",
       "        vertical-align: top;\n",
       "    }\n",
       "\n",
       "    .dataframe thead th {\n",
       "        text-align: right;\n",
       "    }\n",
       "</style>\n",
       "<table border=\"1\" class=\"dataframe\">\n",
       "  <thead>\n",
       "    <tr style=\"text-align: right;\">\n",
       "      <th></th>\n",
       "      <th>Buyer/Spender</th>\n",
       "      <th>Channel</th>\n",
       "      <th>Region</th>\n",
       "      <th>Fresh</th>\n",
       "      <th>Milk</th>\n",
       "      <th>Grocery</th>\n",
       "      <th>Frozen</th>\n",
       "      <th>Detergents_Paper</th>\n",
       "      <th>Delicatessen</th>\n",
       "    </tr>\n",
       "  </thead>\n",
       "  <tbody>\n",
       "    <tr>\n",
       "      <th>0</th>\n",
       "      <td>1</td>\n",
       "      <td>Retail</td>\n",
       "      <td>Other</td>\n",
       "      <td>12669</td>\n",
       "      <td>9656</td>\n",
       "      <td>7561</td>\n",
       "      <td>214</td>\n",
       "      <td>2674</td>\n",
       "      <td>1338</td>\n",
       "    </tr>\n",
       "    <tr>\n",
       "      <th>1</th>\n",
       "      <td>2</td>\n",
       "      <td>Retail</td>\n",
       "      <td>Other</td>\n",
       "      <td>7057</td>\n",
       "      <td>9810</td>\n",
       "      <td>9568</td>\n",
       "      <td>1762</td>\n",
       "      <td>3293</td>\n",
       "      <td>1776</td>\n",
       "    </tr>\n",
       "    <tr>\n",
       "      <th>2</th>\n",
       "      <td>3</td>\n",
       "      <td>Retail</td>\n",
       "      <td>Other</td>\n",
       "      <td>6353</td>\n",
       "      <td>8808</td>\n",
       "      <td>7684</td>\n",
       "      <td>2405</td>\n",
       "      <td>3516</td>\n",
       "      <td>7844</td>\n",
       "    </tr>\n",
       "    <tr>\n",
       "      <th>3</th>\n",
       "      <td>4</td>\n",
       "      <td>Hotel</td>\n",
       "      <td>Other</td>\n",
       "      <td>13265</td>\n",
       "      <td>1196</td>\n",
       "      <td>4221</td>\n",
       "      <td>6404</td>\n",
       "      <td>507</td>\n",
       "      <td>1788</td>\n",
       "    </tr>\n",
       "    <tr>\n",
       "      <th>4</th>\n",
       "      <td>5</td>\n",
       "      <td>Retail</td>\n",
       "      <td>Other</td>\n",
       "      <td>22615</td>\n",
       "      <td>5410</td>\n",
       "      <td>7198</td>\n",
       "      <td>3915</td>\n",
       "      <td>1777</td>\n",
       "      <td>5185</td>\n",
       "    </tr>\n",
       "  </tbody>\n",
       "</table>\n",
       "</div>"
      ],
      "text/plain": [
       "   Buyer/Spender Channel Region  Fresh  Milk  Grocery  Frozen  \\\n",
       "0              1  Retail  Other  12669  9656     7561     214   \n",
       "1              2  Retail  Other   7057  9810     9568    1762   \n",
       "2              3  Retail  Other   6353  8808     7684    2405   \n",
       "3              4   Hotel  Other  13265  1196     4221    6404   \n",
       "4              5  Retail  Other  22615  5410     7198    3915   \n",
       "\n",
       "   Detergents_Paper  Delicatessen  \n",
       "0              2674          1338  \n",
       "1              3293          1776  \n",
       "2              3516          7844  \n",
       "3               507          1788  \n",
       "4              1777          5185  "
      ]
     },
     "execution_count": 231,
     "metadata": {},
     "output_type": "execute_result"
    }
   ],
   "source": [
    "wcad.head()"
   ]
  },
  {
   "cell_type": "code",
   "execution_count": 232,
   "id": "b599feef",
   "metadata": {
    "ExecuteTime": {
     "end_time": "2022-02-27T14:04:12.372342Z",
     "start_time": "2022-02-27T14:04:12.194297Z"
    }
   },
   "outputs": [
    {
     "data": {
      "text/html": [
       "<div>\n",
       "<style scoped>\n",
       "    .dataframe tbody tr th:only-of-type {\n",
       "        vertical-align: middle;\n",
       "    }\n",
       "\n",
       "    .dataframe tbody tr th {\n",
       "        vertical-align: top;\n",
       "    }\n",
       "\n",
       "    .dataframe thead th {\n",
       "        text-align: right;\n",
       "    }\n",
       "</style>\n",
       "<table border=\"1\" class=\"dataframe\">\n",
       "  <thead>\n",
       "    <tr style=\"text-align: right;\">\n",
       "      <th></th>\n",
       "      <th>Buyer/Spender</th>\n",
       "      <th>Channel</th>\n",
       "      <th>Region</th>\n",
       "      <th>Fresh</th>\n",
       "      <th>Milk</th>\n",
       "      <th>Grocery</th>\n",
       "      <th>Frozen</th>\n",
       "      <th>Detergents_Paper</th>\n",
       "      <th>Delicatessen</th>\n",
       "    </tr>\n",
       "  </thead>\n",
       "  <tbody>\n",
       "    <tr>\n",
       "      <th>435</th>\n",
       "      <td>436</td>\n",
       "      <td>Hotel</td>\n",
       "      <td>Other</td>\n",
       "      <td>29703</td>\n",
       "      <td>12051</td>\n",
       "      <td>16027</td>\n",
       "      <td>13135</td>\n",
       "      <td>182</td>\n",
       "      <td>2204</td>\n",
       "    </tr>\n",
       "    <tr>\n",
       "      <th>436</th>\n",
       "      <td>437</td>\n",
       "      <td>Hotel</td>\n",
       "      <td>Other</td>\n",
       "      <td>39228</td>\n",
       "      <td>1431</td>\n",
       "      <td>764</td>\n",
       "      <td>4510</td>\n",
       "      <td>93</td>\n",
       "      <td>2346</td>\n",
       "    </tr>\n",
       "    <tr>\n",
       "      <th>437</th>\n",
       "      <td>438</td>\n",
       "      <td>Retail</td>\n",
       "      <td>Other</td>\n",
       "      <td>14531</td>\n",
       "      <td>15488</td>\n",
       "      <td>30243</td>\n",
       "      <td>437</td>\n",
       "      <td>14841</td>\n",
       "      <td>1867</td>\n",
       "    </tr>\n",
       "    <tr>\n",
       "      <th>438</th>\n",
       "      <td>439</td>\n",
       "      <td>Hotel</td>\n",
       "      <td>Other</td>\n",
       "      <td>10290</td>\n",
       "      <td>1981</td>\n",
       "      <td>2232</td>\n",
       "      <td>1038</td>\n",
       "      <td>168</td>\n",
       "      <td>2125</td>\n",
       "    </tr>\n",
       "    <tr>\n",
       "      <th>439</th>\n",
       "      <td>440</td>\n",
       "      <td>Hotel</td>\n",
       "      <td>Other</td>\n",
       "      <td>2787</td>\n",
       "      <td>1698</td>\n",
       "      <td>2510</td>\n",
       "      <td>65</td>\n",
       "      <td>477</td>\n",
       "      <td>52</td>\n",
       "    </tr>\n",
       "  </tbody>\n",
       "</table>\n",
       "</div>"
      ],
      "text/plain": [
       "     Buyer/Spender Channel Region  Fresh   Milk  Grocery  Frozen  \\\n",
       "435            436   Hotel  Other  29703  12051    16027   13135   \n",
       "436            437   Hotel  Other  39228   1431      764    4510   \n",
       "437            438  Retail  Other  14531  15488    30243     437   \n",
       "438            439   Hotel  Other  10290   1981     2232    1038   \n",
       "439            440   Hotel  Other   2787   1698     2510      65   \n",
       "\n",
       "     Detergents_Paper  Delicatessen  \n",
       "435               182          2204  \n",
       "436                93          2346  \n",
       "437             14841          1867  \n",
       "438               168          2125  \n",
       "439               477            52  "
      ]
     },
     "execution_count": 232,
     "metadata": {},
     "output_type": "execute_result"
    }
   ],
   "source": [
    "wcad.tail()"
   ]
  },
  {
   "cell_type": "code",
   "execution_count": 233,
   "id": "555ffa4d",
   "metadata": {
    "ExecuteTime": {
     "end_time": "2022-02-27T14:04:12.673418Z",
     "start_time": "2022-02-27T14:04:12.379343Z"
    }
   },
   "outputs": [
    {
     "data": {
      "text/plain": [
       "(440, 9)"
      ]
     },
     "execution_count": 233,
     "metadata": {},
     "output_type": "execute_result"
    }
   ],
   "source": [
    "wcad.shape"
   ]
  },
  {
   "cell_type": "code",
   "execution_count": 234,
   "id": "391b9b07",
   "metadata": {
    "ExecuteTime": {
     "end_time": "2022-02-27T14:04:14.306831Z",
     "start_time": "2022-02-27T14:04:12.680420Z"
    }
   },
   "outputs": [
    {
     "name": "stdout",
     "output_type": "stream",
     "text": [
      "<class 'pandas.core.frame.DataFrame'>\n",
      "RangeIndex: 440 entries, 0 to 439\n",
      "Data columns (total 9 columns):\n",
      " #   Column            Non-Null Count  Dtype \n",
      "---  ------            --------------  ----- \n",
      " 0   Buyer/Spender     440 non-null    int64 \n",
      " 1   Channel           440 non-null    object\n",
      " 2   Region            440 non-null    object\n",
      " 3   Fresh             440 non-null    int64 \n",
      " 4   Milk              440 non-null    int64 \n",
      " 5   Grocery           440 non-null    int64 \n",
      " 6   Frozen            440 non-null    int64 \n",
      " 7   Detergents_Paper  440 non-null    int64 \n",
      " 8   Delicatessen      440 non-null    int64 \n",
      "dtypes: int64(7), object(2)\n",
      "memory usage: 31.1+ KB\n"
     ]
    }
   ],
   "source": [
    "wcad.info()"
   ]
  },
  {
   "cell_type": "markdown",
   "id": "261ec54d",
   "metadata": {
    "ExecuteTime": {
     "end_time": "2022-02-24T00:54:27.212540Z",
     "start_time": "2022-02-24T00:54:27.204538Z"
    }
   },
   "source": [
    "## <b>Use methods of descriptive statistics to summarize data. Which Region and which Channel spent the most? Which Region and which Channel spent the least?"
   ]
  },
  {
   "cell_type": "code",
   "execution_count": 235,
   "id": "c5f74dc6",
   "metadata": {
    "ExecuteTime": {
     "end_time": "2022-02-27T14:04:23.463151Z",
     "start_time": "2022-02-27T14:04:22.580924Z"
    }
   },
   "outputs": [
    {
     "data": {
      "text/html": [
       "<div>\n",
       "<style scoped>\n",
       "    .dataframe tbody tr th:only-of-type {\n",
       "        vertical-align: middle;\n",
       "    }\n",
       "\n",
       "    .dataframe tbody tr th {\n",
       "        vertical-align: top;\n",
       "    }\n",
       "\n",
       "    .dataframe thead th {\n",
       "        text-align: right;\n",
       "    }\n",
       "</style>\n",
       "<table border=\"1\" class=\"dataframe\">\n",
       "  <thead>\n",
       "    <tr style=\"text-align: right;\">\n",
       "      <th></th>\n",
       "      <th>count</th>\n",
       "      <th>unique</th>\n",
       "      <th>top</th>\n",
       "      <th>freq</th>\n",
       "      <th>mean</th>\n",
       "      <th>std</th>\n",
       "      <th>min</th>\n",
       "      <th>25%</th>\n",
       "      <th>50%</th>\n",
       "      <th>75%</th>\n",
       "      <th>max</th>\n",
       "    </tr>\n",
       "  </thead>\n",
       "  <tbody>\n",
       "    <tr>\n",
       "      <th>Buyer/Spender</th>\n",
       "      <td>440.00</td>\n",
       "      <td>NaN</td>\n",
       "      <td>NaN</td>\n",
       "      <td>NaN</td>\n",
       "      <td>220.50</td>\n",
       "      <td>127.16</td>\n",
       "      <td>1.00</td>\n",
       "      <td>110.75</td>\n",
       "      <td>220.50</td>\n",
       "      <td>330.25</td>\n",
       "      <td>440.00</td>\n",
       "    </tr>\n",
       "    <tr>\n",
       "      <th>Channel</th>\n",
       "      <td>440</td>\n",
       "      <td>2</td>\n",
       "      <td>Hotel</td>\n",
       "      <td>298</td>\n",
       "      <td>NaN</td>\n",
       "      <td>NaN</td>\n",
       "      <td>NaN</td>\n",
       "      <td>NaN</td>\n",
       "      <td>NaN</td>\n",
       "      <td>NaN</td>\n",
       "      <td>NaN</td>\n",
       "    </tr>\n",
       "    <tr>\n",
       "      <th>Region</th>\n",
       "      <td>440</td>\n",
       "      <td>3</td>\n",
       "      <td>Other</td>\n",
       "      <td>316</td>\n",
       "      <td>NaN</td>\n",
       "      <td>NaN</td>\n",
       "      <td>NaN</td>\n",
       "      <td>NaN</td>\n",
       "      <td>NaN</td>\n",
       "      <td>NaN</td>\n",
       "      <td>NaN</td>\n",
       "    </tr>\n",
       "    <tr>\n",
       "      <th>Fresh</th>\n",
       "      <td>440.00</td>\n",
       "      <td>NaN</td>\n",
       "      <td>NaN</td>\n",
       "      <td>NaN</td>\n",
       "      <td>12000.30</td>\n",
       "      <td>12647.33</td>\n",
       "      <td>3.00</td>\n",
       "      <td>3127.75</td>\n",
       "      <td>8504.00</td>\n",
       "      <td>16933.75</td>\n",
       "      <td>112151.00</td>\n",
       "    </tr>\n",
       "    <tr>\n",
       "      <th>Milk</th>\n",
       "      <td>440.00</td>\n",
       "      <td>NaN</td>\n",
       "      <td>NaN</td>\n",
       "      <td>NaN</td>\n",
       "      <td>5796.27</td>\n",
       "      <td>7380.38</td>\n",
       "      <td>55.00</td>\n",
       "      <td>1533.00</td>\n",
       "      <td>3627.00</td>\n",
       "      <td>7190.25</td>\n",
       "      <td>73498.00</td>\n",
       "    </tr>\n",
       "    <tr>\n",
       "      <th>Grocery</th>\n",
       "      <td>440.00</td>\n",
       "      <td>NaN</td>\n",
       "      <td>NaN</td>\n",
       "      <td>NaN</td>\n",
       "      <td>7951.28</td>\n",
       "      <td>9503.16</td>\n",
       "      <td>3.00</td>\n",
       "      <td>2153.00</td>\n",
       "      <td>4755.50</td>\n",
       "      <td>10655.75</td>\n",
       "      <td>92780.00</td>\n",
       "    </tr>\n",
       "    <tr>\n",
       "      <th>Frozen</th>\n",
       "      <td>440.00</td>\n",
       "      <td>NaN</td>\n",
       "      <td>NaN</td>\n",
       "      <td>NaN</td>\n",
       "      <td>3071.93</td>\n",
       "      <td>4854.67</td>\n",
       "      <td>25.00</td>\n",
       "      <td>742.25</td>\n",
       "      <td>1526.00</td>\n",
       "      <td>3554.25</td>\n",
       "      <td>60869.00</td>\n",
       "    </tr>\n",
       "    <tr>\n",
       "      <th>Detergents_Paper</th>\n",
       "      <td>440.00</td>\n",
       "      <td>NaN</td>\n",
       "      <td>NaN</td>\n",
       "      <td>NaN</td>\n",
       "      <td>2881.49</td>\n",
       "      <td>4767.85</td>\n",
       "      <td>3.00</td>\n",
       "      <td>256.75</td>\n",
       "      <td>816.50</td>\n",
       "      <td>3922.00</td>\n",
       "      <td>40827.00</td>\n",
       "    </tr>\n",
       "    <tr>\n",
       "      <th>Delicatessen</th>\n",
       "      <td>440.00</td>\n",
       "      <td>NaN</td>\n",
       "      <td>NaN</td>\n",
       "      <td>NaN</td>\n",
       "      <td>1524.87</td>\n",
       "      <td>2820.11</td>\n",
       "      <td>3.00</td>\n",
       "      <td>408.25</td>\n",
       "      <td>965.50</td>\n",
       "      <td>1820.25</td>\n",
       "      <td>47943.00</td>\n",
       "    </tr>\n",
       "  </tbody>\n",
       "</table>\n",
       "</div>"
      ],
      "text/plain": [
       "                  count unique    top freq     mean      std   min     25%  \\\n",
       "Buyer/Spender    440.00    NaN    NaN  NaN   220.50   127.16  1.00  110.75   \n",
       "Channel             440      2  Hotel  298      NaN      NaN   NaN     NaN   \n",
       "Region              440      3  Other  316      NaN      NaN   NaN     NaN   \n",
       "Fresh            440.00    NaN    NaN  NaN 12000.30 12647.33  3.00 3127.75   \n",
       "Milk             440.00    NaN    NaN  NaN  5796.27  7380.38 55.00 1533.00   \n",
       "Grocery          440.00    NaN    NaN  NaN  7951.28  9503.16  3.00 2153.00   \n",
       "Frozen           440.00    NaN    NaN  NaN  3071.93  4854.67 25.00  742.25   \n",
       "Detergents_Paper 440.00    NaN    NaN  NaN  2881.49  4767.85  3.00  256.75   \n",
       "Delicatessen     440.00    NaN    NaN  NaN  1524.87  2820.11  3.00  408.25   \n",
       "\n",
       "                     50%      75%       max  \n",
       "Buyer/Spender     220.50   330.25    440.00  \n",
       "Channel              NaN      NaN       NaN  \n",
       "Region               NaN      NaN       NaN  \n",
       "Fresh            8504.00 16933.75 112151.00  \n",
       "Milk             3627.00  7190.25  73498.00  \n",
       "Grocery          4755.50 10655.75  92780.00  \n",
       "Frozen           1526.00  3554.25  60869.00  \n",
       "Detergents_Paper  816.50  3922.00  40827.00  \n",
       "Delicatessen      965.50  1820.25  47943.00  "
      ]
     },
     "execution_count": 235,
     "metadata": {},
     "output_type": "execute_result"
    }
   ],
   "source": [
    "wcad.describe(include=\"all\").T"
   ]
  },
  {
   "cell_type": "code",
   "execution_count": 236,
   "id": "b0e9d79f",
   "metadata": {
    "ExecuteTime": {
     "end_time": "2022-02-27T14:04:25.797762Z",
     "start_time": "2022-02-27T14:04:25.485657Z"
    }
   },
   "outputs": [],
   "source": [
    "wcad[\"Total_Spending\"] = wcad[\"Fresh\"]+wcad[\"Milk\"]+wcad[\"Grocery\"]+wcad[\"Frozen\"]+wcad[\"Detergents_Paper\"]+wcad[\"Delicatessen\"]"
   ]
  },
  {
   "cell_type": "code",
   "execution_count": 237,
   "id": "51697d40",
   "metadata": {
    "ExecuteTime": {
     "end_time": "2022-02-27T14:04:27.778235Z",
     "start_time": "2022-02-27T14:04:27.577183Z"
    }
   },
   "outputs": [
    {
     "data": {
      "text/html": [
       "<div>\n",
       "<style scoped>\n",
       "    .dataframe tbody tr th:only-of-type {\n",
       "        vertical-align: middle;\n",
       "    }\n",
       "\n",
       "    .dataframe tbody tr th {\n",
       "        vertical-align: top;\n",
       "    }\n",
       "\n",
       "    .dataframe thead th {\n",
       "        text-align: right;\n",
       "    }\n",
       "</style>\n",
       "<table border=\"1\" class=\"dataframe\">\n",
       "  <thead>\n",
       "    <tr style=\"text-align: right;\">\n",
       "      <th></th>\n",
       "      <th>Buyer/Spender</th>\n",
       "      <th>Channel</th>\n",
       "      <th>Region</th>\n",
       "      <th>Fresh</th>\n",
       "      <th>Milk</th>\n",
       "      <th>Grocery</th>\n",
       "      <th>Frozen</th>\n",
       "      <th>Detergents_Paper</th>\n",
       "      <th>Delicatessen</th>\n",
       "      <th>Total_Spending</th>\n",
       "    </tr>\n",
       "  </thead>\n",
       "  <tbody>\n",
       "    <tr>\n",
       "      <th>0</th>\n",
       "      <td>1</td>\n",
       "      <td>Retail</td>\n",
       "      <td>Other</td>\n",
       "      <td>12669</td>\n",
       "      <td>9656</td>\n",
       "      <td>7561</td>\n",
       "      <td>214</td>\n",
       "      <td>2674</td>\n",
       "      <td>1338</td>\n",
       "      <td>34112</td>\n",
       "    </tr>\n",
       "    <tr>\n",
       "      <th>1</th>\n",
       "      <td>2</td>\n",
       "      <td>Retail</td>\n",
       "      <td>Other</td>\n",
       "      <td>7057</td>\n",
       "      <td>9810</td>\n",
       "      <td>9568</td>\n",
       "      <td>1762</td>\n",
       "      <td>3293</td>\n",
       "      <td>1776</td>\n",
       "      <td>33266</td>\n",
       "    </tr>\n",
       "    <tr>\n",
       "      <th>2</th>\n",
       "      <td>3</td>\n",
       "      <td>Retail</td>\n",
       "      <td>Other</td>\n",
       "      <td>6353</td>\n",
       "      <td>8808</td>\n",
       "      <td>7684</td>\n",
       "      <td>2405</td>\n",
       "      <td>3516</td>\n",
       "      <td>7844</td>\n",
       "      <td>36610</td>\n",
       "    </tr>\n",
       "    <tr>\n",
       "      <th>3</th>\n",
       "      <td>4</td>\n",
       "      <td>Hotel</td>\n",
       "      <td>Other</td>\n",
       "      <td>13265</td>\n",
       "      <td>1196</td>\n",
       "      <td>4221</td>\n",
       "      <td>6404</td>\n",
       "      <td>507</td>\n",
       "      <td>1788</td>\n",
       "      <td>27381</td>\n",
       "    </tr>\n",
       "    <tr>\n",
       "      <th>4</th>\n",
       "      <td>5</td>\n",
       "      <td>Retail</td>\n",
       "      <td>Other</td>\n",
       "      <td>22615</td>\n",
       "      <td>5410</td>\n",
       "      <td>7198</td>\n",
       "      <td>3915</td>\n",
       "      <td>1777</td>\n",
       "      <td>5185</td>\n",
       "      <td>46100</td>\n",
       "    </tr>\n",
       "  </tbody>\n",
       "</table>\n",
       "</div>"
      ],
      "text/plain": [
       "   Buyer/Spender Channel Region  Fresh  Milk  Grocery  Frozen  \\\n",
       "0              1  Retail  Other  12669  9656     7561     214   \n",
       "1              2  Retail  Other   7057  9810     9568    1762   \n",
       "2              3  Retail  Other   6353  8808     7684    2405   \n",
       "3              4   Hotel  Other  13265  1196     4221    6404   \n",
       "4              5  Retail  Other  22615  5410     7198    3915   \n",
       "\n",
       "   Detergents_Paper  Delicatessen  Total_Spending  \n",
       "0              2674          1338           34112  \n",
       "1              3293          1776           33266  \n",
       "2              3516          7844           36610  \n",
       "3               507          1788           27381  \n",
       "4              1777          5185           46100  "
      ]
     },
     "execution_count": 237,
     "metadata": {},
     "output_type": "execute_result"
    }
   ],
   "source": [
    "wcad.head()"
   ]
  },
  {
   "cell_type": "code",
   "execution_count": 238,
   "id": "04b32c4c",
   "metadata": {
    "ExecuteTime": {
     "end_time": "2022-02-27T14:04:28.194339Z",
     "start_time": "2022-02-27T14:04:28.131326Z"
    }
   },
   "outputs": [],
   "source": [
    "wcadregspend=wcad.groupby(\"Region\")"
   ]
  },
  {
   "cell_type": "code",
   "execution_count": 240,
   "id": "fa64c2c4",
   "metadata": {
    "ExecuteTime": {
     "end_time": "2022-02-27T14:04:36.858527Z",
     "start_time": "2022-02-27T14:04:36.743502Z"
    }
   },
   "outputs": [
    {
     "data": {
      "text/html": [
       "<div>\n",
       "<style scoped>\n",
       "    .dataframe tbody tr th:only-of-type {\n",
       "        vertical-align: middle;\n",
       "    }\n",
       "\n",
       "    .dataframe tbody tr th {\n",
       "        vertical-align: top;\n",
       "    }\n",
       "\n",
       "    .dataframe thead th {\n",
       "        text-align: right;\n",
       "    }\n",
       "</style>\n",
       "<table border=\"1\" class=\"dataframe\">\n",
       "  <thead>\n",
       "    <tr style=\"text-align: right;\">\n",
       "      <th></th>\n",
       "      <th>Buyer/Spender</th>\n",
       "      <th>Fresh</th>\n",
       "      <th>Milk</th>\n",
       "      <th>Grocery</th>\n",
       "      <th>Frozen</th>\n",
       "      <th>Detergents_Paper</th>\n",
       "      <th>Delicatessen</th>\n",
       "      <th>Total_Spending</th>\n",
       "    </tr>\n",
       "    <tr>\n",
       "      <th>Region</th>\n",
       "      <th></th>\n",
       "      <th></th>\n",
       "      <th></th>\n",
       "      <th></th>\n",
       "      <th></th>\n",
       "      <th></th>\n",
       "      <th></th>\n",
       "      <th></th>\n",
       "    </tr>\n",
       "  </thead>\n",
       "  <tbody>\n",
       "    <tr>\n",
       "      <th>Lisbon</th>\n",
       "      <td>18095</td>\n",
       "      <td>854833</td>\n",
       "      <td>422454</td>\n",
       "      <td>570037</td>\n",
       "      <td>231026</td>\n",
       "      <td>204136</td>\n",
       "      <td>104327</td>\n",
       "      <td>2386813</td>\n",
       "    </tr>\n",
       "    <tr>\n",
       "      <th>Oporto</th>\n",
       "      <td>14899</td>\n",
       "      <td>464721</td>\n",
       "      <td>239144</td>\n",
       "      <td>433274</td>\n",
       "      <td>190132</td>\n",
       "      <td>173311</td>\n",
       "      <td>54506</td>\n",
       "      <td>1555088</td>\n",
       "    </tr>\n",
       "    <tr>\n",
       "      <th>Other</th>\n",
       "      <td>64026</td>\n",
       "      <td>3960577</td>\n",
       "      <td>1888759</td>\n",
       "      <td>2495251</td>\n",
       "      <td>930492</td>\n",
       "      <td>890410</td>\n",
       "      <td>512110</td>\n",
       "      <td>10677599</td>\n",
       "    </tr>\n",
       "  </tbody>\n",
       "</table>\n",
       "</div>"
      ],
      "text/plain": [
       "        Buyer/Spender    Fresh     Milk  Grocery  Frozen  Detergents_Paper  \\\n",
       "Region                                                                       \n",
       "Lisbon          18095   854833   422454   570037  231026            204136   \n",
       "Oporto          14899   464721   239144   433274  190132            173311   \n",
       "Other           64026  3960577  1888759  2495251  930492            890410   \n",
       "\n",
       "        Delicatessen  Total_Spending  \n",
       "Region                                \n",
       "Lisbon        104327         2386813  \n",
       "Oporto         54506         1555088  \n",
       "Other         512110        10677599  "
      ]
     },
     "execution_count": 240,
     "metadata": {},
     "output_type": "execute_result"
    }
   ],
   "source": [
    "wcadregspend.sum()"
   ]
  },
  {
   "cell_type": "code",
   "execution_count": 243,
   "id": "c40138f9",
   "metadata": {
    "ExecuteTime": {
     "end_time": "2022-02-27T14:07:41.062092Z",
     "start_time": "2022-02-27T14:07:39.667835Z"
    }
   },
   "outputs": [
    {
     "data": {
      "image/png": "[encoded data removed]",
      "text/plain": [
       "<Figure size 432x288 with 1 Axes>"
      ]
     },
     "metadata": {
      "needs_background": "light"
     },
     "output_type": "display_data"
    }
   ],
   "source": [
    "ax = sns.barplot(x=\"Region\",y='Total_Spending',data = wcad,ci=None,estimator=np.sum);\n",
    "ax.bar_label(ax.containers[0]);\n",
    "plt.title(\"Region v/s Total Annual Spending\");"
   ]
  },
  {
   "cell_type": "code",
   "execution_count": 244,
   "id": "f33cc291",
   "metadata": {
    "ExecuteTime": {
     "end_time": "2022-02-27T14:07:43.403682Z",
     "start_time": "2022-02-27T14:07:43.360677Z"
    }
   },
   "outputs": [],
   "source": [
    "wcadchanspend=wcad.groupby(\"Channel\")"
   ]
  },
  {
   "cell_type": "code",
   "execution_count": 247,
   "id": "78d39562",
   "metadata": {
    "ExecuteTime": {
     "end_time": "2022-02-27T14:12:04.955333Z",
     "start_time": "2022-02-27T14:12:04.869316Z"
    }
   },
   "outputs": [
    {
     "data": {
      "text/html": [
       "<div>\n",
       "<style scoped>\n",
       "    .dataframe tbody tr th:only-of-type {\n",
       "        vertical-align: middle;\n",
       "    }\n",
       "\n",
       "    .dataframe tbody tr th {\n",
       "        vertical-align: top;\n",
       "    }\n",
       "\n",
       "    .dataframe thead th {\n",
       "        text-align: right;\n",
       "    }\n",
       "</style>\n",
       "<table border=\"1\" class=\"dataframe\">\n",
       "  <thead>\n",
       "    <tr style=\"text-align: right;\">\n",
       "      <th></th>\n",
       "      <th>Buyer/Spender</th>\n",
       "      <th>Fresh</th>\n",
       "      <th>Milk</th>\n",
       "      <th>Grocery</th>\n",
       "      <th>Frozen</th>\n",
       "      <th>Detergents_Paper</th>\n",
       "      <th>Delicatessen</th>\n",
       "      <th>Total_Spending</th>\n",
       "    </tr>\n",
       "    <tr>\n",
       "      <th>Channel</th>\n",
       "      <th></th>\n",
       "      <th></th>\n",
       "      <th></th>\n",
       "      <th></th>\n",
       "      <th></th>\n",
       "      <th></th>\n",
       "      <th></th>\n",
       "      <th></th>\n",
       "    </tr>\n",
       "  </thead>\n",
       "  <tbody>\n",
       "    <tr>\n",
       "      <th>Hotel</th>\n",
       "      <td>71034</td>\n",
       "      <td>4015717</td>\n",
       "      <td>1028614</td>\n",
       "      <td>1180717</td>\n",
       "      <td>1116979</td>\n",
       "      <td>235587</td>\n",
       "      <td>421955</td>\n",
       "      <td>7999569</td>\n",
       "    </tr>\n",
       "    <tr>\n",
       "      <th>Retail</th>\n",
       "      <td>25986</td>\n",
       "      <td>1264414</td>\n",
       "      <td>1521743</td>\n",
       "      <td>2317845</td>\n",
       "      <td>234671</td>\n",
       "      <td>1032270</td>\n",
       "      <td>248988</td>\n",
       "      <td>6619931</td>\n",
       "    </tr>\n",
       "  </tbody>\n",
       "</table>\n",
       "</div>"
      ],
      "text/plain": [
       "         Buyer/Spender    Fresh     Milk  Grocery   Frozen  Detergents_Paper  \\\n",
       "Channel                                                                        \n",
       "Hotel            71034  4015717  1028614  1180717  1116979            235587   \n",
       "Retail           25986  1264414  1521743  2317845   234671           1032270   \n",
       "\n",
       "         Delicatessen  Total_Spending  \n",
       "Channel                                \n",
       "Hotel          421955         7999569  \n",
       "Retail         248988         6619931  "
      ]
     },
     "execution_count": 247,
     "metadata": {},
     "output_type": "execute_result"
    }
   ],
   "source": [
    "wcadchanspend.sum()"
   ]
  },
  {
   "cell_type": "code",
   "execution_count": 249,
   "id": "a9eb0541",
   "metadata": {
    "ExecuteTime": {
     "end_time": "2022-02-27T14:12:16.655534Z",
     "start_time": "2022-02-27T14:12:15.754304Z"
    }
   },
   "outputs": [
    {
     "data": {
      "image/png": "[encoded data removed]",
      "text/plain": [
       "<Figure size 432x288 with 1 Axes>"
      ]
     },
     "metadata": {
      "needs_background": "light"
     },
     "output_type": "display_data"
    }
   ],
   "source": [
    "ax = sns.barplot(x=\"Channel\",y='Total_Spending',data = wcad,ci=None,estimator=np.sum);\n",
    "ax.bar_label(ax.containers[0]);\n",
    "plt.title(\"Channel v/s Total Annual Spending\");"
   ]
  },
  {
   "cell_type": "markdown",
   "id": "f08890d4",
   "metadata": {},
   "source": [
    "<b>Alternate way using cross tab"
   ]
  },
  {
   "cell_type": "code",
   "execution_count": 87,
   "id": "6790f7ea",
   "metadata": {
    "ExecuteTime": {
     "end_time": "2022-02-27T00:37:29.666567Z",
     "start_time": "2022-02-27T00:37:29.597549Z"
    }
   },
   "outputs": [
    {
     "data": {
      "text/html": [
       "<div>\n",
       "<style scoped>\n",
       "    .dataframe tbody tr th:only-of-type {\n",
       "        vertical-align: middle;\n",
       "    }\n",
       "\n",
       "    .dataframe tbody tr th {\n",
       "        vertical-align: top;\n",
       "    }\n",
       "\n",
       "    .dataframe thead th {\n",
       "        text-align: right;\n",
       "    }\n",
       "</style>\n",
       "<table border=\"1\" class=\"dataframe\">\n",
       "  <thead>\n",
       "    <tr style=\"text-align: right;\">\n",
       "      <th>Channel</th>\n",
       "      <th>Hotel</th>\n",
       "      <th>Retail</th>\n",
       "      <th>RegTotal</th>\n",
       "    </tr>\n",
       "    <tr>\n",
       "      <th>Region</th>\n",
       "      <th></th>\n",
       "      <th></th>\n",
       "      <th></th>\n",
       "    </tr>\n",
       "  </thead>\n",
       "  <tbody>\n",
       "    <tr>\n",
       "      <th>Lisbon</th>\n",
       "      <td>1538342</td>\n",
       "      <td>848471</td>\n",
       "      <td>2386813</td>\n",
       "    </tr>\n",
       "    <tr>\n",
       "      <th>Oporto</th>\n",
       "      <td>719150</td>\n",
       "      <td>835938</td>\n",
       "      <td>1555088</td>\n",
       "    </tr>\n",
       "    <tr>\n",
       "      <th>Other</th>\n",
       "      <td>5742077</td>\n",
       "      <td>4935522</td>\n",
       "      <td>10677599</td>\n",
       "    </tr>\n",
       "    <tr>\n",
       "      <th>ChanTotal</th>\n",
       "      <td>7999569</td>\n",
       "      <td>6619931</td>\n",
       "      <td>14619500</td>\n",
       "    </tr>\n",
       "  </tbody>\n",
       "</table>\n",
       "</div>"
      ],
      "text/plain": [
       "Channel      Hotel   Retail  RegTotal\n",
       "Region                               \n",
       "Lisbon     1538342   848471   2386813\n",
       "Oporto      719150   835938   1555088\n",
       "Other      5742077  4935522  10677599\n",
       "ChanTotal  7999569  6619931  14619500"
      ]
     },
     "execution_count": 87,
     "metadata": {},
     "output_type": "execute_result"
    }
   ],
   "source": [
    "ct=pd.crosstab(wcad[\"Region\"],wcad[\"Channel\"],values=wcad[\"Total_Spending\"],aggfunc=np.sum)\n",
    "ct[\"RegTotal\"]=ct[\"Hotel\"]+ct[\"Retail\"]\n",
    "ct.loc[len(ct.index)]=ct.loc[\"Lisbon\"]+ct.loc[\"Oporto\"]+ct.loc[\"Other\"]\n",
    "ct.rename(index={3:\"ChanTotal\"},inplace=True)\n",
    "ct"
   ]
  },
  {
   "cell_type": "markdown",
   "id": "0573213c",
   "metadata": {},
   "source": [
    "## There are 6 different varieties of items that are considered. Describe and comment/explain all the varieties across Region and Channel? Provide a detailed justification for your answer."
   ]
  },
  {
   "cell_type": "code",
   "execution_count": 88,
   "id": "a3cdc967",
   "metadata": {
    "ExecuteTime": {
     "end_time": "2022-02-27T00:37:34.982074Z",
     "start_time": "2022-02-27T00:37:34.653992Z"
    }
   },
   "outputs": [
    {
     "data": {
      "text/html": [
       "<div>\n",
       "<style scoped>\n",
       "    .dataframe tbody tr th:only-of-type {\n",
       "        vertical-align: middle;\n",
       "    }\n",
       "\n",
       "    .dataframe tbody tr th {\n",
       "        vertical-align: top;\n",
       "    }\n",
       "\n",
       "    .dataframe thead tr th {\n",
       "        text-align: left;\n",
       "    }\n",
       "\n",
       "    .dataframe thead tr:last-of-type th {\n",
       "        text-align: right;\n",
       "    }\n",
       "</style>\n",
       "<table border=\"1\" class=\"dataframe\">\n",
       "  <thead>\n",
       "    <tr>\n",
       "      <th></th>\n",
       "      <th colspan=\"8\" halign=\"left\">Buyer/Spender</th>\n",
       "      <th colspan=\"2\" halign=\"left\">Fresh</th>\n",
       "      <th>...</th>\n",
       "      <th colspan=\"2\" halign=\"left\">Delicatessen</th>\n",
       "      <th colspan=\"8\" halign=\"left\">Total_Spending</th>\n",
       "    </tr>\n",
       "    <tr>\n",
       "      <th></th>\n",
       "      <th>count</th>\n",
       "      <th>mean</th>\n",
       "      <th>std</th>\n",
       "      <th>min</th>\n",
       "      <th>25%</th>\n",
       "      <th>50%</th>\n",
       "      <th>75%</th>\n",
       "      <th>max</th>\n",
       "      <th>count</th>\n",
       "      <th>mean</th>\n",
       "      <th>...</th>\n",
       "      <th>75%</th>\n",
       "      <th>max</th>\n",
       "      <th>count</th>\n",
       "      <th>mean</th>\n",
       "      <th>std</th>\n",
       "      <th>min</th>\n",
       "      <th>25%</th>\n",
       "      <th>50%</th>\n",
       "      <th>75%</th>\n",
       "      <th>max</th>\n",
       "    </tr>\n",
       "    <tr>\n",
       "      <th>Region</th>\n",
       "      <th></th>\n",
       "      <th></th>\n",
       "      <th></th>\n",
       "      <th></th>\n",
       "      <th></th>\n",
       "      <th></th>\n",
       "      <th></th>\n",
       "      <th></th>\n",
       "      <th></th>\n",
       "      <th></th>\n",
       "      <th></th>\n",
       "      <th></th>\n",
       "      <th></th>\n",
       "      <th></th>\n",
       "      <th></th>\n",
       "      <th></th>\n",
       "      <th></th>\n",
       "      <th></th>\n",
       "      <th></th>\n",
       "      <th></th>\n",
       "      <th></th>\n",
       "    </tr>\n",
       "  </thead>\n",
       "  <tbody>\n",
       "    <tr>\n",
       "      <th>Lisbon</th>\n",
       "      <td>77.00</td>\n",
       "      <td>235.00</td>\n",
       "      <td>22.37</td>\n",
       "      <td>197.00</td>\n",
       "      <td>216.00</td>\n",
       "      <td>235.00</td>\n",
       "      <td>254.00</td>\n",
       "      <td>273.00</td>\n",
       "      <td>77.00</td>\n",
       "      <td>11101.73</td>\n",
       "      <td>...</td>\n",
       "      <td>1775.00</td>\n",
       "      <td>6854.00</td>\n",
       "      <td>77.00</td>\n",
       "      <td>30997.57</td>\n",
       "      <td>20321.81</td>\n",
       "      <td>4925.00</td>\n",
       "      <td>17184.00</td>\n",
       "      <td>25385.00</td>\n",
       "      <td>38699.00</td>\n",
       "      <td>107155.00</td>\n",
       "    </tr>\n",
       "    <tr>\n",
       "      <th>Oporto</th>\n",
       "      <td>47.00</td>\n",
       "      <td>317.00</td>\n",
       "      <td>13.71</td>\n",
       "      <td>294.00</td>\n",
       "      <td>305.50</td>\n",
       "      <td>317.00</td>\n",
       "      <td>328.50</td>\n",
       "      <td>340.00</td>\n",
       "      <td>47.00</td>\n",
       "      <td>9887.68</td>\n",
       "      <td>...</td>\n",
       "      <td>1538.50</td>\n",
       "      <td>5609.00</td>\n",
       "      <td>47.00</td>\n",
       "      <td>33086.98</td>\n",
       "      <td>24234.51</td>\n",
       "      <td>4129.00</td>\n",
       "      <td>20611.50</td>\n",
       "      <td>26953.00</td>\n",
       "      <td>36158.50</td>\n",
       "      <td>130877.00</td>\n",
       "    </tr>\n",
       "    <tr>\n",
       "      <th>Other</th>\n",
       "      <td>316.00</td>\n",
       "      <td>202.61</td>\n",
       "      <td>143.62</td>\n",
       "      <td>1.00</td>\n",
       "      <td>79.75</td>\n",
       "      <td>158.50</td>\n",
       "      <td>361.25</td>\n",
       "      <td>440.00</td>\n",
       "      <td>316.00</td>\n",
       "      <td>12533.47</td>\n",
       "      <td>...</td>\n",
       "      <td>1832.75</td>\n",
       "      <td>47943.00</td>\n",
       "      <td>316.00</td>\n",
       "      <td>33789.87</td>\n",
       "      <td>27949.34</td>\n",
       "      <td>904.00</td>\n",
       "      <td>17209.25</td>\n",
       "      <td>28029.00</td>\n",
       "      <td>42492.25</td>\n",
       "      <td>199891.00</td>\n",
       "    </tr>\n",
       "  </tbody>\n",
       "</table>\n",
       "<p>3 rows × 64 columns</p>\n",
       "</div>"
      ],
      "text/plain": [
       "       Buyer/Spender                                                   Fresh  \\\n",
       "               count   mean    std    min    25%    50%    75%    max  count   \n",
       "Region                                                                         \n",
       "Lisbon         77.00 235.00  22.37 197.00 216.00 235.00 254.00 273.00  77.00   \n",
       "Oporto         47.00 317.00  13.71 294.00 305.50 317.00 328.50 340.00  47.00   \n",
       "Other         316.00 202.61 143.62   1.00  79.75 158.50 361.25 440.00 316.00   \n",
       "\n",
       "                 ... Delicatessen          Total_Spending                    \\\n",
       "           mean  ...          75%      max          count     mean      std   \n",
       "Region           ...                                                          \n",
       "Lisbon 11101.73  ...      1775.00  6854.00          77.00 30997.57 20321.81   \n",
       "Oporto  9887.68  ...      1538.50  5609.00          47.00 33086.98 24234.51   \n",
       "Other  12533.47  ...      1832.75 47943.00         316.00 33789.87 27949.34   \n",
       "\n",
       "                                                     \n",
       "           min      25%      50%      75%       max  \n",
       "Region                                               \n",
       "Lisbon 4925.00 17184.00 25385.00 38699.00 107155.00  \n",
       "Oporto 4129.00 20611.50 26953.00 36158.50 130877.00  \n",
       "Other   904.00 17209.25 28029.00 42492.25 199891.00  \n",
       "\n",
       "[3 rows x 64 columns]"
      ]
     },
     "execution_count": 88,
     "metadata": {},
     "output_type": "execute_result"
    }
   ],
   "source": [
    "wcadregspend.describe()"
   ]
  },
  {
   "cell_type": "code",
   "execution_count": 89,
   "id": "99cddb6c",
   "metadata": {
    "ExecuteTime": {
     "end_time": "2022-02-27T00:37:35.519225Z",
     "start_time": "2022-02-27T00:37:35.318160Z"
    }
   },
   "outputs": [
    {
     "data": {
      "text/html": [
       "<div>\n",
       "<style scoped>\n",
       "    .dataframe tbody tr th:only-of-type {\n",
       "        vertical-align: middle;\n",
       "    }\n",
       "\n",
       "    .dataframe tbody tr th {\n",
       "        vertical-align: top;\n",
       "    }\n",
       "\n",
       "    .dataframe thead tr th {\n",
       "        text-align: left;\n",
       "    }\n",
       "\n",
       "    .dataframe thead tr:last-of-type th {\n",
       "        text-align: right;\n",
       "    }\n",
       "</style>\n",
       "<table border=\"1\" class=\"dataframe\">\n",
       "  <thead>\n",
       "    <tr>\n",
       "      <th></th>\n",
       "      <th colspan=\"8\" halign=\"left\">Buyer/Spender</th>\n",
       "      <th colspan=\"2\" halign=\"left\">Fresh</th>\n",
       "      <th>...</th>\n",
       "      <th colspan=\"2\" halign=\"left\">Delicatessen</th>\n",
       "      <th colspan=\"8\" halign=\"left\">Total_Spending</th>\n",
       "    </tr>\n",
       "    <tr>\n",
       "      <th></th>\n",
       "      <th>count</th>\n",
       "      <th>mean</th>\n",
       "      <th>std</th>\n",
       "      <th>min</th>\n",
       "      <th>25%</th>\n",
       "      <th>50%</th>\n",
       "      <th>75%</th>\n",
       "      <th>max</th>\n",
       "      <th>count</th>\n",
       "      <th>mean</th>\n",
       "      <th>...</th>\n",
       "      <th>75%</th>\n",
       "      <th>max</th>\n",
       "      <th>count</th>\n",
       "      <th>mean</th>\n",
       "      <th>std</th>\n",
       "      <th>min</th>\n",
       "      <th>25%</th>\n",
       "      <th>50%</th>\n",
       "      <th>75%</th>\n",
       "      <th>max</th>\n",
       "    </tr>\n",
       "    <tr>\n",
       "      <th>Channel</th>\n",
       "      <th></th>\n",
       "      <th></th>\n",
       "      <th></th>\n",
       "      <th></th>\n",
       "      <th></th>\n",
       "      <th></th>\n",
       "      <th></th>\n",
       "      <th></th>\n",
       "      <th></th>\n",
       "      <th></th>\n",
       "      <th></th>\n",
       "      <th></th>\n",
       "      <th></th>\n",
       "      <th></th>\n",
       "      <th></th>\n",
       "      <th></th>\n",
       "      <th></th>\n",
       "      <th></th>\n",
       "      <th></th>\n",
       "      <th></th>\n",
       "      <th></th>\n",
       "    </tr>\n",
       "  </thead>\n",
       "  <tbody>\n",
       "    <tr>\n",
       "      <th>Hotel</th>\n",
       "      <td>298.00</td>\n",
       "      <td>238.37</td>\n",
       "      <td>120.91</td>\n",
       "      <td>4.00</td>\n",
       "      <td>137.25</td>\n",
       "      <td>241.50</td>\n",
       "      <td>344.50</td>\n",
       "      <td>440.00</td>\n",
       "      <td>298.00</td>\n",
       "      <td>13475.56</td>\n",
       "      <td>...</td>\n",
       "      <td>1548.00</td>\n",
       "      <td>47943.00</td>\n",
       "      <td>298.00</td>\n",
       "      <td>26844.19</td>\n",
       "      <td>22164.84</td>\n",
       "      <td>904.00</td>\n",
       "      <td>13859.25</td>\n",
       "      <td>21254.50</td>\n",
       "      <td>32113.75</td>\n",
       "      <td>190169.00</td>\n",
       "    </tr>\n",
       "    <tr>\n",
       "      <th>Retail</th>\n",
       "      <td>142.00</td>\n",
       "      <td>183.00</td>\n",
       "      <td>132.14</td>\n",
       "      <td>1.00</td>\n",
       "      <td>61.25</td>\n",
       "      <td>166.50</td>\n",
       "      <td>303.75</td>\n",
       "      <td>438.00</td>\n",
       "      <td>142.00</td>\n",
       "      <td>8904.32</td>\n",
       "      <td>...</td>\n",
       "      <td>2156.00</td>\n",
       "      <td>16523.00</td>\n",
       "      <td>142.00</td>\n",
       "      <td>46619.23</td>\n",
       "      <td>29346.87</td>\n",
       "      <td>14993.00</td>\n",
       "      <td>30147.25</td>\n",
       "      <td>37139.00</td>\n",
       "      <td>51650.50</td>\n",
       "      <td>199891.00</td>\n",
       "    </tr>\n",
       "  </tbody>\n",
       "</table>\n",
       "<p>2 rows × 64 columns</p>\n",
       "</div>"
      ],
      "text/plain": [
       "        Buyer/Spender                                                 Fresh  \\\n",
       "                count   mean    std  min    25%    50%    75%    max  count   \n",
       "Channel                                                                       \n",
       "Hotel          298.00 238.37 120.91 4.00 137.25 241.50 344.50 440.00 298.00   \n",
       "Retail         142.00 183.00 132.14 1.00  61.25 166.50 303.75 438.00 142.00   \n",
       "\n",
       "                  ... Delicatessen          Total_Spending                    \\\n",
       "            mean  ...          75%      max          count     mean      std   \n",
       "Channel           ...                                                          \n",
       "Hotel   13475.56  ...      1548.00 47943.00         298.00 26844.19 22164.84   \n",
       "Retail   8904.32  ...      2156.00 16523.00         142.00 46619.23 29346.87   \n",
       "\n",
       "                                                       \n",
       "             min      25%      50%      75%       max  \n",
       "Channel                                                \n",
       "Hotel     904.00 13859.25 21254.50 32113.75 190169.00  \n",
       "Retail  14993.00 30147.25 37139.00 51650.50 199891.00  \n",
       "\n",
       "[2 rows x 64 columns]"
      ]
     },
     "execution_count": 89,
     "metadata": {},
     "output_type": "execute_result"
    }
   ],
   "source": [
    "wcadchanspend.describe()"
   ]
  },
  {
   "cell_type": "markdown",
   "id": "d17c9f15",
   "metadata": {},
   "source": [
    "## On the basis of a descriptive measure of variability, which item shows the most inconsistent behaviour? Which items show the least inconsistent behaviour?"
   ]
  },
  {
   "cell_type": "code",
   "execution_count": 250,
   "id": "ed0605d4",
   "metadata": {
    "ExecuteTime": {
     "end_time": "2022-02-27T14:27:30.282131Z",
     "start_time": "2022-02-27T14:27:30.247128Z"
    }
   },
   "outputs": [
    {
     "data": {
      "text/html": [
       "<div>\n",
       "<style scoped>\n",
       "    .dataframe tbody tr th:only-of-type {\n",
       "        vertical-align: middle;\n",
       "    }\n",
       "\n",
       "    .dataframe tbody tr th {\n",
       "        vertical-align: top;\n",
       "    }\n",
       "\n",
       "    .dataframe thead th {\n",
       "        text-align: right;\n",
       "    }\n",
       "</style>\n",
       "<table border=\"1\" class=\"dataframe\">\n",
       "  <thead>\n",
       "    <tr style=\"text-align: right;\">\n",
       "      <th></th>\n",
       "      <th>Buyer/Spender</th>\n",
       "      <th>Channel</th>\n",
       "      <th>Region</th>\n",
       "      <th>Fresh</th>\n",
       "      <th>Milk</th>\n",
       "      <th>Grocery</th>\n",
       "      <th>Frozen</th>\n",
       "      <th>Detergents_Paper</th>\n",
       "      <th>Delicatessen</th>\n",
       "      <th>Total_Spending</th>\n",
       "    </tr>\n",
       "  </thead>\n",
       "  <tbody>\n",
       "    <tr>\n",
       "      <th>0</th>\n",
       "      <td>1</td>\n",
       "      <td>Retail</td>\n",
       "      <td>Other</td>\n",
       "      <td>12669</td>\n",
       "      <td>9656</td>\n",
       "      <td>7561</td>\n",
       "      <td>214</td>\n",
       "      <td>2674</td>\n",
       "      <td>1338</td>\n",
       "      <td>34112</td>\n",
       "    </tr>\n",
       "    <tr>\n",
       "      <th>1</th>\n",
       "      <td>2</td>\n",
       "      <td>Retail</td>\n",
       "      <td>Other</td>\n",
       "      <td>7057</td>\n",
       "      <td>9810</td>\n",
       "      <td>9568</td>\n",
       "      <td>1762</td>\n",
       "      <td>3293</td>\n",
       "      <td>1776</td>\n",
       "      <td>33266</td>\n",
       "    </tr>\n",
       "    <tr>\n",
       "      <th>2</th>\n",
       "      <td>3</td>\n",
       "      <td>Retail</td>\n",
       "      <td>Other</td>\n",
       "      <td>6353</td>\n",
       "      <td>8808</td>\n",
       "      <td>7684</td>\n",
       "      <td>2405</td>\n",
       "      <td>3516</td>\n",
       "      <td>7844</td>\n",
       "      <td>36610</td>\n",
       "    </tr>\n",
       "    <tr>\n",
       "      <th>3</th>\n",
       "      <td>4</td>\n",
       "      <td>Hotel</td>\n",
       "      <td>Other</td>\n",
       "      <td>13265</td>\n",
       "      <td>1196</td>\n",
       "      <td>4221</td>\n",
       "      <td>6404</td>\n",
       "      <td>507</td>\n",
       "      <td>1788</td>\n",
       "      <td>27381</td>\n",
       "    </tr>\n",
       "    <tr>\n",
       "      <th>4</th>\n",
       "      <td>5</td>\n",
       "      <td>Retail</td>\n",
       "      <td>Other</td>\n",
       "      <td>22615</td>\n",
       "      <td>5410</td>\n",
       "      <td>7198</td>\n",
       "      <td>3915</td>\n",
       "      <td>1777</td>\n",
       "      <td>5185</td>\n",
       "      <td>46100</td>\n",
       "    </tr>\n",
       "  </tbody>\n",
       "</table>\n",
       "</div>"
      ],
      "text/plain": [
       "   Buyer/Spender Channel Region  Fresh  Milk  Grocery  Frozen  \\\n",
       "0              1  Retail  Other  12669  9656     7561     214   \n",
       "1              2  Retail  Other   7057  9810     9568    1762   \n",
       "2              3  Retail  Other   6353  8808     7684    2405   \n",
       "3              4   Hotel  Other  13265  1196     4221    6404   \n",
       "4              5  Retail  Other  22615  5410     7198    3915   \n",
       "\n",
       "   Detergents_Paper  Delicatessen  Total_Spending  \n",
       "0              2674          1338           34112  \n",
       "1              3293          1776           33266  \n",
       "2              3516          7844           36610  \n",
       "3               507          1788           27381  \n",
       "4              1777          5185           46100  "
      ]
     },
     "execution_count": 250,
     "metadata": {},
     "output_type": "execute_result"
    }
   ],
   "source": [
    "wcad.head()"
   ]
  },
  {
   "cell_type": "code",
   "execution_count": 251,
   "id": "45621911",
   "metadata": {
    "ExecuteTime": {
     "end_time": "2022-02-27T14:27:32.505068Z",
     "start_time": "2022-02-27T14:27:32.086736Z"
    }
   },
   "outputs": [],
   "source": [
    "Fresh = round(stats.variation(wcad.iloc[0:,3]),2)\n",
    "Milk = round(stats.variation(wcad.iloc[0:,4]),2)\n",
    "Grocery = round(stats.variation(wcad.iloc[0:,5]),2)\n",
    "Frozen = round(stats.variation(wcad.iloc[0:,6]),2)\n",
    "Det_Pap = round(stats.variation(wcad.iloc[0:,7]),2)\n",
    "delicatessen = round(stats.variation(wcad.iloc[0:,8]),2)"
   ]
  },
  {
   "cell_type": "code",
   "execution_count": 252,
   "id": "27be75aa",
   "metadata": {
    "ExecuteTime": {
     "end_time": "2022-02-27T14:27:36.037798Z",
     "start_time": "2022-02-27T14:27:35.900764Z"
    }
   },
   "outputs": [],
   "source": [
    "a=pd.DataFrame({\"Variety\":(\"Fresh\",\"Milk\",\"Grocery\",\"Frozen\",\"Det_Pap\",\"delicatessen\"), \"CV\":(Fresh,Milk,Grocery,Frozen,Det_Pap,delicatessen)},index=[\"First\",\"Second\",\"Third\",\"Fourth\", \"Fifth\",\"Sixth\"])"
   ]
  },
  {
   "cell_type": "code",
   "execution_count": 253,
   "id": "dae57e07",
   "metadata": {
    "ExecuteTime": {
     "end_time": "2022-02-27T14:27:37.831524Z",
     "start_time": "2022-02-27T14:27:37.754129Z"
    }
   },
   "outputs": [
    {
     "data": {
      "text/html": [
       "<div>\n",
       "<style scoped>\n",
       "    .dataframe tbody tr th:only-of-type {\n",
       "        vertical-align: middle;\n",
       "    }\n",
       "\n",
       "    .dataframe tbody tr th {\n",
       "        vertical-align: top;\n",
       "    }\n",
       "\n",
       "    .dataframe thead th {\n",
       "        text-align: right;\n",
       "    }\n",
       "</style>\n",
       "<table border=\"1\" class=\"dataframe\">\n",
       "  <thead>\n",
       "    <tr style=\"text-align: right;\">\n",
       "      <th></th>\n",
       "      <th>Variety</th>\n",
       "      <th>CV</th>\n",
       "    </tr>\n",
       "  </thead>\n",
       "  <tbody>\n",
       "    <tr>\n",
       "      <th>First</th>\n",
       "      <td>Fresh</td>\n",
       "      <td>1.05</td>\n",
       "    </tr>\n",
       "    <tr>\n",
       "      <th>Second</th>\n",
       "      <td>Milk</td>\n",
       "      <td>1.27</td>\n",
       "    </tr>\n",
       "    <tr>\n",
       "      <th>Third</th>\n",
       "      <td>Grocery</td>\n",
       "      <td>1.19</td>\n",
       "    </tr>\n",
       "    <tr>\n",
       "      <th>Fourth</th>\n",
       "      <td>Frozen</td>\n",
       "      <td>1.58</td>\n",
       "    </tr>\n",
       "    <tr>\n",
       "      <th>Fifth</th>\n",
       "      <td>Det_Pap</td>\n",
       "      <td>1.65</td>\n",
       "    </tr>\n",
       "    <tr>\n",
       "      <th>Sixth</th>\n",
       "      <td>delicatessen</td>\n",
       "      <td>1.85</td>\n",
       "    </tr>\n",
       "  </tbody>\n",
       "</table>\n",
       "</div>"
      ],
      "text/plain": [
       "             Variety   CV\n",
       "First          Fresh 1.05\n",
       "Second          Milk 1.27\n",
       "Third        Grocery 1.19\n",
       "Fourth        Frozen 1.58\n",
       "Fifth        Det_Pap 1.65\n",
       "Sixth   delicatessen 1.85"
      ]
     },
     "execution_count": 253,
     "metadata": {},
     "output_type": "execute_result"
    }
   ],
   "source": [
    "a"
   ]
  },
  {
   "cell_type": "code",
   "execution_count": 254,
   "id": "8bd5a4b4",
   "metadata": {
    "ExecuteTime": {
     "end_time": "2022-02-27T14:28:18.693414Z",
     "start_time": "2022-02-27T14:28:18.554803Z"
    }
   },
   "outputs": [],
   "source": [
    "a.sort_values(by=\"CV\",inplace = True)"
   ]
  },
  {
   "cell_type": "code",
   "execution_count": 255,
   "id": "b0f15139",
   "metadata": {
    "ExecuteTime": {
     "end_time": "2022-02-27T14:28:22.059318Z",
     "start_time": "2022-02-27T14:28:21.141002Z"
    }
   },
   "outputs": [
    {
     "data": {
      "image/png": "[encoded data removed]",
      "text/plain": [
       "<Figure size 432x288 with 1 Axes>"
      ]
     },
     "metadata": {
      "needs_background": "light"
     },
     "output_type": "display_data"
    }
   ],
   "source": [
    "cvplot = sns.barplot(x=\"Variety\",y=\"CV\",data=a);\n",
    "cvplot.bar_label(cvplot.containers[0]);"
   ]
  },
  {
   "cell_type": "markdown",
   "id": "cd282412",
   "metadata": {},
   "source": [
    "## Are there any outliers in the data? Back up your answer with a suitable plot/technique with the help of detailed comments."
   ]
  },
  {
   "cell_type": "code",
   "execution_count": 96,
   "id": "eee33968",
   "metadata": {
    "ExecuteTime": {
     "end_time": "2022-02-27T00:37:46.375517Z",
     "start_time": "2022-02-27T00:37:43.529430Z"
    }
   },
   "outputs": [
    {
     "data": {
      "image/png": "[encoded data removed]",
      "text/plain": [
       "<Figure size 1080x864 with 6 Axes>"
      ]
     },
     "metadata": {
      "needs_background": "light"
     },
     "output_type": "display_data"
    }
   ],
   "source": [
    "plt.figure(figsize=(15,12));\n",
    "plt.subplot(3,2,1);\n",
    "sns.boxplot(x=\"Fresh\",data=wcad);\n",
    "plt.subplot(3,2,2);\n",
    "sns.boxplot(x=\"Grocery\",data=wcad);\n",
    "plt.subplot(3,2,3);\n",
    "sns.boxplot(x=\"Milk\",data=wcad);\n",
    "plt.subplot(3,2,4);\n",
    "sns.boxplot(x=\"Frozen\",data=wcad);\n",
    "plt.subplot(3,2,5);\n",
    "sns.boxplot(x=\"Detergents_Paper\",data=wcad);\n",
    "plt.subplot(3,2,6);\n",
    "sns.boxplot(x=\"Delicatessen\",data=wcad);"
   ]
  },
  {
   "cell_type": "markdown",
   "id": "c907d7d4",
   "metadata": {},
   "source": [
    "# CMSU UG SURVEY"
   ]
  },
  {
   "cell_type": "code",
   "execution_count": 97,
   "id": "a2a83127",
   "metadata": {
    "ExecuteTime": {
     "end_time": "2022-02-27T00:37:46.439552Z",
     "start_time": "2022-02-27T00:37:46.381518Z"
    }
   },
   "outputs": [],
   "source": [
    "survey = pd.read_csv(\"Survey-1.csv\")"
   ]
  },
  {
   "cell_type": "markdown",
   "id": "6b15a3ad",
   "metadata": {},
   "source": [
    "<b>Exploratory Data Analysis"
   ]
  },
  {
   "cell_type": "code",
   "execution_count": 98,
   "id": "6a29af90",
   "metadata": {
    "ExecuteTime": {
     "end_time": "2022-02-27T00:37:46.663069Z",
     "start_time": "2022-02-27T00:37:46.606057Z"
    }
   },
   "outputs": [
    {
     "data": {
      "text/html": [
       "<div>\n",
       "<style scoped>\n",
       "    .dataframe tbody tr th:only-of-type {\n",
       "        vertical-align: middle;\n",
       "    }\n",
       "\n",
       "    .dataframe tbody tr th {\n",
       "        vertical-align: top;\n",
       "    }\n",
       "\n",
       "    .dataframe thead th {\n",
       "        text-align: right;\n",
       "    }\n",
       "</style>\n",
       "<table border=\"1\" class=\"dataframe\">\n",
       "  <thead>\n",
       "    <tr style=\"text-align: right;\">\n",
       "      <th></th>\n",
       "      <th>ID</th>\n",
       "      <th>Gender</th>\n",
       "      <th>Age</th>\n",
       "      <th>Class</th>\n",
       "      <th>Major</th>\n",
       "      <th>Grad Intention</th>\n",
       "      <th>GPA</th>\n",
       "      <th>Employment</th>\n",
       "      <th>Salary</th>\n",
       "      <th>Social Networking</th>\n",
       "      <th>Satisfaction</th>\n",
       "      <th>Spending</th>\n",
       "      <th>Computer</th>\n",
       "      <th>Text Messages</th>\n",
       "    </tr>\n",
       "  </thead>\n",
       "  <tbody>\n",
       "    <tr>\n",
       "      <th>0</th>\n",
       "      <td>1</td>\n",
       "      <td>Female</td>\n",
       "      <td>20</td>\n",
       "      <td>Junior</td>\n",
       "      <td>Other</td>\n",
       "      <td>Yes</td>\n",
       "      <td>2.90</td>\n",
       "      <td>Full-Time</td>\n",
       "      <td>50.00</td>\n",
       "      <td>1</td>\n",
       "      <td>3</td>\n",
       "      <td>350</td>\n",
       "      <td>Laptop</td>\n",
       "      <td>200</td>\n",
       "    </tr>\n",
       "    <tr>\n",
       "      <th>1</th>\n",
       "      <td>2</td>\n",
       "      <td>Male</td>\n",
       "      <td>23</td>\n",
       "      <td>Senior</td>\n",
       "      <td>Management</td>\n",
       "      <td>Yes</td>\n",
       "      <td>3.60</td>\n",
       "      <td>Part-Time</td>\n",
       "      <td>25.00</td>\n",
       "      <td>1</td>\n",
       "      <td>4</td>\n",
       "      <td>360</td>\n",
       "      <td>Laptop</td>\n",
       "      <td>50</td>\n",
       "    </tr>\n",
       "    <tr>\n",
       "      <th>2</th>\n",
       "      <td>3</td>\n",
       "      <td>Male</td>\n",
       "      <td>21</td>\n",
       "      <td>Junior</td>\n",
       "      <td>Other</td>\n",
       "      <td>Yes</td>\n",
       "      <td>2.50</td>\n",
       "      <td>Part-Time</td>\n",
       "      <td>45.00</td>\n",
       "      <td>2</td>\n",
       "      <td>4</td>\n",
       "      <td>600</td>\n",
       "      <td>Laptop</td>\n",
       "      <td>200</td>\n",
       "    </tr>\n",
       "    <tr>\n",
       "      <th>3</th>\n",
       "      <td>4</td>\n",
       "      <td>Male</td>\n",
       "      <td>21</td>\n",
       "      <td>Junior</td>\n",
       "      <td>CIS</td>\n",
       "      <td>Yes</td>\n",
       "      <td>2.50</td>\n",
       "      <td>Full-Time</td>\n",
       "      <td>40.00</td>\n",
       "      <td>4</td>\n",
       "      <td>6</td>\n",
       "      <td>600</td>\n",
       "      <td>Laptop</td>\n",
       "      <td>250</td>\n",
       "    </tr>\n",
       "    <tr>\n",
       "      <th>4</th>\n",
       "      <td>5</td>\n",
       "      <td>Male</td>\n",
       "      <td>23</td>\n",
       "      <td>Senior</td>\n",
       "      <td>Other</td>\n",
       "      <td>Undecided</td>\n",
       "      <td>2.80</td>\n",
       "      <td>Unemployed</td>\n",
       "      <td>40.00</td>\n",
       "      <td>2</td>\n",
       "      <td>4</td>\n",
       "      <td>500</td>\n",
       "      <td>Laptop</td>\n",
       "      <td>100</td>\n",
       "    </tr>\n",
       "  </tbody>\n",
       "</table>\n",
       "</div>"
      ],
      "text/plain": [
       "   ID  Gender  Age   Class       Major Grad Intention  GPA  Employment  \\\n",
       "0   1  Female   20  Junior       Other            Yes 2.90   Full-Time   \n",
       "1   2    Male   23  Senior  Management            Yes 3.60   Part-Time   \n",
       "2   3    Male   21  Junior       Other            Yes 2.50   Part-Time   \n",
       "3   4    Male   21  Junior         CIS            Yes 2.50   Full-Time   \n",
       "4   5    Male   23  Senior       Other      Undecided 2.80  Unemployed   \n",
       "\n",
       "   Salary  Social Networking  Satisfaction  Spending Computer  Text Messages  \n",
       "0   50.00                  1             3       350   Laptop            200  \n",
       "1   25.00                  1             4       360   Laptop             50  \n",
       "2   45.00                  2             4       600   Laptop            200  \n",
       "3   40.00                  4             6       600   Laptop            250  \n",
       "4   40.00                  2             4       500   Laptop            100  "
      ]
     },
     "execution_count": 98,
     "metadata": {},
     "output_type": "execute_result"
    }
   ],
   "source": [
    "survey.head()"
   ]
  },
  {
   "cell_type": "code",
   "execution_count": 99,
   "id": "5d99d6f2",
   "metadata": {
    "ExecuteTime": {
     "end_time": "2022-02-27T00:37:47.179203Z",
     "start_time": "2022-02-27T00:37:47.042163Z"
    }
   },
   "outputs": [
    {
     "data": {
      "text/html": [
       "<div>\n",
       "<style scoped>\n",
       "    .dataframe tbody tr th:only-of-type {\n",
       "        vertical-align: middle;\n",
       "    }\n",
       "\n",
       "    .dataframe tbody tr th {\n",
       "        vertical-align: top;\n",
       "    }\n",
       "\n",
       "    .dataframe thead th {\n",
       "        text-align: right;\n",
       "    }\n",
       "</style>\n",
       "<table border=\"1\" class=\"dataframe\">\n",
       "  <thead>\n",
       "    <tr style=\"text-align: right;\">\n",
       "      <th></th>\n",
       "      <th>ID</th>\n",
       "      <th>Gender</th>\n",
       "      <th>Age</th>\n",
       "      <th>Class</th>\n",
       "      <th>Major</th>\n",
       "      <th>Grad Intention</th>\n",
       "      <th>GPA</th>\n",
       "      <th>Employment</th>\n",
       "      <th>Salary</th>\n",
       "      <th>Social Networking</th>\n",
       "      <th>Satisfaction</th>\n",
       "      <th>Spending</th>\n",
       "      <th>Computer</th>\n",
       "      <th>Text Messages</th>\n",
       "    </tr>\n",
       "  </thead>\n",
       "  <tbody>\n",
       "    <tr>\n",
       "      <th>57</th>\n",
       "      <td>58</td>\n",
       "      <td>Female</td>\n",
       "      <td>21</td>\n",
       "      <td>Senior</td>\n",
       "      <td>International Business</td>\n",
       "      <td>No</td>\n",
       "      <td>2.40</td>\n",
       "      <td>Part-Time</td>\n",
       "      <td>40.00</td>\n",
       "      <td>1</td>\n",
       "      <td>3</td>\n",
       "      <td>1000</td>\n",
       "      <td>Laptop</td>\n",
       "      <td>10</td>\n",
       "    </tr>\n",
       "    <tr>\n",
       "      <th>58</th>\n",
       "      <td>59</td>\n",
       "      <td>Female</td>\n",
       "      <td>20</td>\n",
       "      <td>Junior</td>\n",
       "      <td>CIS</td>\n",
       "      <td>No</td>\n",
       "      <td>2.90</td>\n",
       "      <td>Part-Time</td>\n",
       "      <td>40.00</td>\n",
       "      <td>2</td>\n",
       "      <td>4</td>\n",
       "      <td>350</td>\n",
       "      <td>Laptop</td>\n",
       "      <td>250</td>\n",
       "    </tr>\n",
       "    <tr>\n",
       "      <th>59</th>\n",
       "      <td>60</td>\n",
       "      <td>Female</td>\n",
       "      <td>20</td>\n",
       "      <td>Sophomore</td>\n",
       "      <td>CIS</td>\n",
       "      <td>No</td>\n",
       "      <td>2.50</td>\n",
       "      <td>Part-Time</td>\n",
       "      <td>55.00</td>\n",
       "      <td>1</td>\n",
       "      <td>4</td>\n",
       "      <td>500</td>\n",
       "      <td>Laptop</td>\n",
       "      <td>500</td>\n",
       "    </tr>\n",
       "    <tr>\n",
       "      <th>60</th>\n",
       "      <td>61</td>\n",
       "      <td>Female</td>\n",
       "      <td>23</td>\n",
       "      <td>Senior</td>\n",
       "      <td>Accounting</td>\n",
       "      <td>Yes</td>\n",
       "      <td>3.50</td>\n",
       "      <td>Part-Time</td>\n",
       "      <td>30.00</td>\n",
       "      <td>2</td>\n",
       "      <td>3</td>\n",
       "      <td>490</td>\n",
       "      <td>Laptop</td>\n",
       "      <td>50</td>\n",
       "    </tr>\n",
       "    <tr>\n",
       "      <th>61</th>\n",
       "      <td>62</td>\n",
       "      <td>Female</td>\n",
       "      <td>23</td>\n",
       "      <td>Senior</td>\n",
       "      <td>Economics/Finance</td>\n",
       "      <td>No</td>\n",
       "      <td>3.20</td>\n",
       "      <td>Part-Time</td>\n",
       "      <td>70.00</td>\n",
       "      <td>2</td>\n",
       "      <td>3</td>\n",
       "      <td>250</td>\n",
       "      <td>Laptop</td>\n",
       "      <td>0</td>\n",
       "    </tr>\n",
       "  </tbody>\n",
       "</table>\n",
       "</div>"
      ],
      "text/plain": [
       "    ID  Gender  Age      Class                   Major Grad Intention  GPA  \\\n",
       "57  58  Female   21     Senior  International Business             No 2.40   \n",
       "58  59  Female   20     Junior                     CIS             No 2.90   \n",
       "59  60  Female   20  Sophomore                     CIS             No 2.50   \n",
       "60  61  Female   23     Senior              Accounting            Yes 3.50   \n",
       "61  62  Female   23     Senior       Economics/Finance             No 3.20   \n",
       "\n",
       "   Employment  Salary  Social Networking  Satisfaction  Spending Computer  \\\n",
       "57  Part-Time   40.00                  1             3      1000   Laptop   \n",
       "58  Part-Time   40.00                  2             4       350   Laptop   \n",
       "59  Part-Time   55.00                  1             4       500   Laptop   \n",
       "60  Part-Time   30.00                  2             3       490   Laptop   \n",
       "61  Part-Time   70.00                  2             3       250   Laptop   \n",
       "\n",
       "    Text Messages  \n",
       "57             10  \n",
       "58            250  \n",
       "59            500  \n",
       "60             50  \n",
       "61              0  "
      ]
     },
     "execution_count": 99,
     "metadata": {},
     "output_type": "execute_result"
    }
   ],
   "source": [
    "survey.tail()"
   ]
  },
  {
   "cell_type": "code",
   "execution_count": 100,
   "id": "6b6da9a6",
   "metadata": {
    "ExecuteTime": {
     "end_time": "2022-02-27T00:37:47.493277Z",
     "start_time": "2022-02-27T00:37:47.469273Z"
    }
   },
   "outputs": [
    {
     "data": {
      "text/plain": [
       "(62, 14)"
      ]
     },
     "execution_count": 100,
     "metadata": {},
     "output_type": "execute_result"
    }
   ],
   "source": [
    "survey.shape"
   ]
  },
  {
   "cell_type": "code",
   "execution_count": 101,
   "id": "1bf6d95b",
   "metadata": {
    "ExecuteTime": {
     "end_time": "2022-02-27T00:37:49.787861Z",
     "start_time": "2022-02-27T00:37:49.755855Z"
    }
   },
   "outputs": [
    {
     "name": "stdout",
     "output_type": "stream",
     "text": [
      "<class 'pandas.core.frame.DataFrame'>\n",
      "RangeIndex: 62 entries, 0 to 61\n",
      "Data columns (total 14 columns):\n",
      " #   Column             Non-Null Count  Dtype  \n",
      "---  ------             --------------  -----  \n",
      " 0   ID                 62 non-null     int64  \n",
      " 1   Gender             62 non-null     object \n",
      " 2   Age                62 non-null     int64  \n",
      " 3   Class              62 non-null     object \n",
      " 4   Major              62 non-null     object \n",
      " 5   Grad Intention     62 non-null     object \n",
      " 6   GPA                62 non-null     float64\n",
      " 7   Employment         62 non-null     object \n",
      " 8   Salary             62 non-null     float64\n",
      " 9   Social Networking  62 non-null     int64  \n",
      " 10  Satisfaction       62 non-null     int64  \n",
      " 11  Spending           62 non-null     int64  \n",
      " 12  Computer           62 non-null     object \n",
      " 13  Text Messages      62 non-null     int64  \n",
      "dtypes: float64(2), int64(6), object(6)\n",
      "memory usage: 6.9+ KB\n"
     ]
    }
   ],
   "source": [
    "survey.info()"
   ]
  },
  {
   "cell_type": "markdown",
   "id": "8354d7db",
   "metadata": {},
   "source": [
    "## For this data, construct the following contingency tables (Keep Gender as row variable)"
   ]
  },
  {
   "cell_type": "markdown",
   "id": "a0391306",
   "metadata": {},
   "source": [
    "### Gender and Major"
   ]
  },
  {
   "cell_type": "code",
   "execution_count": 102,
   "id": "80ecfb23",
   "metadata": {
    "ExecuteTime": {
     "end_time": "2022-02-27T00:37:54.101797Z",
     "start_time": "2022-02-27T00:37:54.007164Z"
    }
   },
   "outputs": [
    {
     "data": {
      "text/html": [
       "<div>\n",
       "<style scoped>\n",
       "    .dataframe tbody tr th:only-of-type {\n",
       "        vertical-align: middle;\n",
       "    }\n",
       "\n",
       "    .dataframe tbody tr th {\n",
       "        vertical-align: top;\n",
       "    }\n",
       "\n",
       "    .dataframe thead th {\n",
       "        text-align: right;\n",
       "    }\n",
       "</style>\n",
       "<table border=\"1\" class=\"dataframe\">\n",
       "  <thead>\n",
       "    <tr style=\"text-align: right;\">\n",
       "      <th>Major</th>\n",
       "      <th>Accounting</th>\n",
       "      <th>CIS</th>\n",
       "      <th>Economics/Finance</th>\n",
       "      <th>International Business</th>\n",
       "      <th>Management</th>\n",
       "      <th>Other</th>\n",
       "      <th>Retailing/Marketing</th>\n",
       "      <th>Undecided</th>\n",
       "      <th>Gender_Total</th>\n",
       "    </tr>\n",
       "    <tr>\n",
       "      <th>Gender</th>\n",
       "      <th></th>\n",
       "      <th></th>\n",
       "      <th></th>\n",
       "      <th></th>\n",
       "      <th></th>\n",
       "      <th></th>\n",
       "      <th></th>\n",
       "      <th></th>\n",
       "      <th></th>\n",
       "    </tr>\n",
       "  </thead>\n",
       "  <tbody>\n",
       "    <tr>\n",
       "      <th>Female</th>\n",
       "      <td>3</td>\n",
       "      <td>3</td>\n",
       "      <td>7</td>\n",
       "      <td>4</td>\n",
       "      <td>4</td>\n",
       "      <td>3</td>\n",
       "      <td>9</td>\n",
       "      <td>0</td>\n",
       "      <td>33</td>\n",
       "    </tr>\n",
       "    <tr>\n",
       "      <th>Male</th>\n",
       "      <td>4</td>\n",
       "      <td>1</td>\n",
       "      <td>4</td>\n",
       "      <td>2</td>\n",
       "      <td>6</td>\n",
       "      <td>4</td>\n",
       "      <td>5</td>\n",
       "      <td>3</td>\n",
       "      <td>29</td>\n",
       "    </tr>\n",
       "    <tr>\n",
       "      <th>Major_Total</th>\n",
       "      <td>7</td>\n",
       "      <td>4</td>\n",
       "      <td>11</td>\n",
       "      <td>6</td>\n",
       "      <td>10</td>\n",
       "      <td>7</td>\n",
       "      <td>14</td>\n",
       "      <td>3</td>\n",
       "      <td>62</td>\n",
       "    </tr>\n",
       "  </tbody>\n",
       "</table>\n",
       "</div>"
      ],
      "text/plain": [
       "Major        Accounting  CIS  Economics/Finance  International Business  \\\n",
       "Gender                                                                    \n",
       "Female                3    3                  7                       4   \n",
       "Male                  4    1                  4                       2   \n",
       "Major_Total           7    4                 11                       6   \n",
       "\n",
       "Major        Management  Other  Retailing/Marketing  Undecided  Gender_Total  \n",
       "Gender                                                                        \n",
       "Female                4      3                    9          0            33  \n",
       "Male                  6      4                    5          3            29  \n",
       "Major_Total          10      7                   14          3            62  "
      ]
     },
     "execution_count": 102,
     "metadata": {},
     "output_type": "execute_result"
    }
   ],
   "source": [
    "ct1=pd.crosstab(survey[\"Gender\"],survey[\"Major\"])\n",
    "ct1[\"Gender_Total\"] = ct1[\"Accounting\"]+ct1[\"CIS\"]+ct1[\"Economics/Finance\"]+ct1[\"International Business\"]+ct1[\"Management\"]+ct1[\"Other\"]+ct1[\"Retailing/Marketing\"]+ct1[\"Undecided\"]\n",
    "ct1.loc[len(ct1.index)]=ct1.loc[\"Female\"]+ct1.loc[\"Male\"]\n",
    "ct1.rename(index={2:\"Major_Total\"},inplace=True)\n",
    "ct1"
   ]
  },
  {
   "cell_type": "markdown",
   "id": "ac2a65c2",
   "metadata": {},
   "source": [
    "### Gender and Grad Intention"
   ]
  },
  {
   "cell_type": "code",
   "execution_count": 103,
   "id": "c462f1d0",
   "metadata": {
    "ExecuteTime": {
     "end_time": "2022-02-27T00:37:56.414870Z",
     "start_time": "2022-02-27T00:37:56.338854Z"
    }
   },
   "outputs": [
    {
     "data": {
      "text/html": [
       "<div>\n",
       "<style scoped>\n",
       "    .dataframe tbody tr th:only-of-type {\n",
       "        vertical-align: middle;\n",
       "    }\n",
       "\n",
       "    .dataframe tbody tr th {\n",
       "        vertical-align: top;\n",
       "    }\n",
       "\n",
       "    .dataframe thead th {\n",
       "        text-align: right;\n",
       "    }\n",
       "</style>\n",
       "<table border=\"1\" class=\"dataframe\">\n",
       "  <thead>\n",
       "    <tr style=\"text-align: right;\">\n",
       "      <th>Grad Intention</th>\n",
       "      <th>No</th>\n",
       "      <th>Undecided</th>\n",
       "      <th>Yes</th>\n",
       "      <th>Gender_Total</th>\n",
       "    </tr>\n",
       "    <tr>\n",
       "      <th>Gender</th>\n",
       "      <th></th>\n",
       "      <th></th>\n",
       "      <th></th>\n",
       "      <th></th>\n",
       "    </tr>\n",
       "  </thead>\n",
       "  <tbody>\n",
       "    <tr>\n",
       "      <th>Female</th>\n",
       "      <td>9</td>\n",
       "      <td>13</td>\n",
       "      <td>11</td>\n",
       "      <td>33</td>\n",
       "    </tr>\n",
       "    <tr>\n",
       "      <th>Male</th>\n",
       "      <td>3</td>\n",
       "      <td>9</td>\n",
       "      <td>17</td>\n",
       "      <td>29</td>\n",
       "    </tr>\n",
       "    <tr>\n",
       "      <th>Grad Intention_Total</th>\n",
       "      <td>12</td>\n",
       "      <td>22</td>\n",
       "      <td>28</td>\n",
       "      <td>62</td>\n",
       "    </tr>\n",
       "  </tbody>\n",
       "</table>\n",
       "</div>"
      ],
      "text/plain": [
       "Grad Intention        No  Undecided  Yes  Gender_Total\n",
       "Gender                                                \n",
       "Female                 9         13   11            33\n",
       "Male                   3          9   17            29\n",
       "Grad Intention_Total  12         22   28            62"
      ]
     },
     "execution_count": 103,
     "metadata": {},
     "output_type": "execute_result"
    }
   ],
   "source": [
    "ct2=pd.crosstab(survey[\"Gender\"],survey[\"Grad Intention\"])\n",
    "ct2[\"Gender_Total\"] = ct2[\"No\"]+ct2[\"Undecided\"]+ct2[\"Yes\"]\n",
    "ct2.loc[len(ct2.index)]=ct2.loc[\"Female\"]+ct2.loc[\"Male\"]\n",
    "ct2.rename(index={2:\"Grad Intention_Total\"},inplace=True)\n",
    "ct2\n"
   ]
  },
  {
   "cell_type": "markdown",
   "id": "87094de5",
   "metadata": {},
   "source": [
    "### Gender and Employment"
   ]
  },
  {
   "cell_type": "code",
   "execution_count": 104,
   "id": "7d851018",
   "metadata": {
    "ExecuteTime": {
     "end_time": "2022-02-27T00:37:57.159063Z",
     "start_time": "2022-02-27T00:37:57.089044Z"
    }
   },
   "outputs": [
    {
     "data": {
      "text/html": [
       "<div>\n",
       "<style scoped>\n",
       "    .dataframe tbody tr th:only-of-type {\n",
       "        vertical-align: middle;\n",
       "    }\n",
       "\n",
       "    .dataframe tbody tr th {\n",
       "        vertical-align: top;\n",
       "    }\n",
       "\n",
       "    .dataframe thead th {\n",
       "        text-align: right;\n",
       "    }\n",
       "</style>\n",
       "<table border=\"1\" class=\"dataframe\">\n",
       "  <thead>\n",
       "    <tr style=\"text-align: right;\">\n",
       "      <th>Employment</th>\n",
       "      <th>Full-Time</th>\n",
       "      <th>Part-Time</th>\n",
       "      <th>Unemployed</th>\n",
       "      <th>Gender_Total</th>\n",
       "    </tr>\n",
       "    <tr>\n",
       "      <th>Gender</th>\n",
       "      <th></th>\n",
       "      <th></th>\n",
       "      <th></th>\n",
       "      <th></th>\n",
       "    </tr>\n",
       "  </thead>\n",
       "  <tbody>\n",
       "    <tr>\n",
       "      <th>Female</th>\n",
       "      <td>3</td>\n",
       "      <td>24</td>\n",
       "      <td>6</td>\n",
       "      <td>33</td>\n",
       "    </tr>\n",
       "    <tr>\n",
       "      <th>Male</th>\n",
       "      <td>7</td>\n",
       "      <td>19</td>\n",
       "      <td>3</td>\n",
       "      <td>29</td>\n",
       "    </tr>\n",
       "    <tr>\n",
       "      <th>Employment_Total</th>\n",
       "      <td>10</td>\n",
       "      <td>43</td>\n",
       "      <td>9</td>\n",
       "      <td>62</td>\n",
       "    </tr>\n",
       "  </tbody>\n",
       "</table>\n",
       "</div>"
      ],
      "text/plain": [
       "Employment        Full-Time  Part-Time  Unemployed  Gender_Total\n",
       "Gender                                                          \n",
       "Female                    3         24           6            33\n",
       "Male                      7         19           3            29\n",
       "Employment_Total         10         43           9            62"
      ]
     },
     "execution_count": 104,
     "metadata": {},
     "output_type": "execute_result"
    }
   ],
   "source": [
    "ct3=pd.crosstab(survey[\"Gender\"],survey[\"Employment\"])\n",
    "ct3[\"Gender_Total\"] = ct3[\"Full-Time\"]+ct3[\"Part-Time\"]+ct3[\"Unemployed\"]\n",
    "ct3.loc[len(ct3.index)]=ct3.loc[\"Female\"]+ct3.loc[\"Male\"]\n",
    "ct3.rename(index={2:\"Employment_Total\"},inplace=True)\n",
    "ct3"
   ]
  },
  {
   "cell_type": "markdown",
   "id": "18acfac7",
   "metadata": {},
   "source": [
    "### Gender and Computer"
   ]
  },
  {
   "cell_type": "code",
   "execution_count": 105,
   "id": "153eeb50",
   "metadata": {
    "ExecuteTime": {
     "end_time": "2022-02-27T00:37:57.893243Z",
     "start_time": "2022-02-27T00:37:57.827230Z"
    }
   },
   "outputs": [
    {
     "data": {
      "text/html": [
       "<div>\n",
       "<style scoped>\n",
       "    .dataframe tbody tr th:only-of-type {\n",
       "        vertical-align: middle;\n",
       "    }\n",
       "\n",
       "    .dataframe tbody tr th {\n",
       "        vertical-align: top;\n",
       "    }\n",
       "\n",
       "    .dataframe thead th {\n",
       "        text-align: right;\n",
       "    }\n",
       "</style>\n",
       "<table border=\"1\" class=\"dataframe\">\n",
       "  <thead>\n",
       "    <tr style=\"text-align: right;\">\n",
       "      <th>Computer</th>\n",
       "      <th>Desktop</th>\n",
       "      <th>Laptop</th>\n",
       "      <th>Tablet</th>\n",
       "      <th>Gender_Total</th>\n",
       "    </tr>\n",
       "    <tr>\n",
       "      <th>Gender</th>\n",
       "      <th></th>\n",
       "      <th></th>\n",
       "      <th></th>\n",
       "      <th></th>\n",
       "    </tr>\n",
       "  </thead>\n",
       "  <tbody>\n",
       "    <tr>\n",
       "      <th>Female</th>\n",
       "      <td>2</td>\n",
       "      <td>29</td>\n",
       "      <td>2</td>\n",
       "      <td>33</td>\n",
       "    </tr>\n",
       "    <tr>\n",
       "      <th>Male</th>\n",
       "      <td>3</td>\n",
       "      <td>26</td>\n",
       "      <td>0</td>\n",
       "      <td>29</td>\n",
       "    </tr>\n",
       "    <tr>\n",
       "      <th>Computer_Total</th>\n",
       "      <td>5</td>\n",
       "      <td>55</td>\n",
       "      <td>2</td>\n",
       "      <td>62</td>\n",
       "    </tr>\n",
       "  </tbody>\n",
       "</table>\n",
       "</div>"
      ],
      "text/plain": [
       "Computer        Desktop  Laptop  Tablet  Gender_Total\n",
       "Gender                                               \n",
       "Female                2      29       2            33\n",
       "Male                  3      26       0            29\n",
       "Computer_Total        5      55       2            62"
      ]
     },
     "execution_count": 105,
     "metadata": {},
     "output_type": "execute_result"
    }
   ],
   "source": [
    "ct4=pd.crosstab(survey[\"Gender\"],survey[\"Computer\"])\n",
    "ct4[\"Gender_Total\"] = ct4[\"Desktop\"]+ct4[\"Laptop\"]+ct4[\"Tablet\"]\n",
    "ct4.loc[len(ct4.index)]=ct4.loc[\"Female\"]+ct4.loc[\"Male\"]\n",
    "ct4.rename(index={2:\"Computer_Total\"},inplace=True)\n",
    "ct4"
   ]
  },
  {
   "cell_type": "markdown",
   "id": "e5fd25ea",
   "metadata": {},
   "source": [
    "## Assume that the sample is representative of the population of CMSU. Based on the data, answer the following question:"
   ]
  },
  {
   "cell_type": "markdown",
   "id": "20a56abb",
   "metadata": {},
   "source": [
    "### What is the probability that a randomly selected CMSU student will be male?"
   ]
  },
  {
   "cell_type": "code",
   "execution_count": 106,
   "id": "7e886e65",
   "metadata": {
    "ExecuteTime": {
     "end_time": "2022-02-27T00:37:59.133556Z",
     "start_time": "2022-02-27T00:37:59.102548Z"
    }
   },
   "outputs": [
    {
     "data": {
      "text/html": [
       "<div>\n",
       "<style scoped>\n",
       "    .dataframe tbody tr th:only-of-type {\n",
       "        vertical-align: middle;\n",
       "    }\n",
       "\n",
       "    .dataframe tbody tr th {\n",
       "        vertical-align: top;\n",
       "    }\n",
       "\n",
       "    .dataframe thead th {\n",
       "        text-align: right;\n",
       "    }\n",
       "</style>\n",
       "<table border=\"1\" class=\"dataframe\">\n",
       "  <thead>\n",
       "    <tr style=\"text-align: right;\">\n",
       "      <th>Major</th>\n",
       "      <th>Accounting</th>\n",
       "      <th>CIS</th>\n",
       "      <th>Economics/Finance</th>\n",
       "      <th>International Business</th>\n",
       "      <th>Management</th>\n",
       "      <th>Other</th>\n",
       "      <th>Retailing/Marketing</th>\n",
       "      <th>Undecided</th>\n",
       "      <th>Gender_Total</th>\n",
       "    </tr>\n",
       "    <tr>\n",
       "      <th>Gender</th>\n",
       "      <th></th>\n",
       "      <th></th>\n",
       "      <th></th>\n",
       "      <th></th>\n",
       "      <th></th>\n",
       "      <th></th>\n",
       "      <th></th>\n",
       "      <th></th>\n",
       "      <th></th>\n",
       "    </tr>\n",
       "  </thead>\n",
       "  <tbody>\n",
       "    <tr>\n",
       "      <th>Female</th>\n",
       "      <td>3</td>\n",
       "      <td>3</td>\n",
       "      <td>7</td>\n",
       "      <td>4</td>\n",
       "      <td>4</td>\n",
       "      <td>3</td>\n",
       "      <td>9</td>\n",
       "      <td>0</td>\n",
       "      <td>33</td>\n",
       "    </tr>\n",
       "    <tr>\n",
       "      <th>Male</th>\n",
       "      <td>4</td>\n",
       "      <td>1</td>\n",
       "      <td>4</td>\n",
       "      <td>2</td>\n",
       "      <td>6</td>\n",
       "      <td>4</td>\n",
       "      <td>5</td>\n",
       "      <td>3</td>\n",
       "      <td>29</td>\n",
       "    </tr>\n",
       "    <tr>\n",
       "      <th>Major_Total</th>\n",
       "      <td>7</td>\n",
       "      <td>4</td>\n",
       "      <td>11</td>\n",
       "      <td>6</td>\n",
       "      <td>10</td>\n",
       "      <td>7</td>\n",
       "      <td>14</td>\n",
       "      <td>3</td>\n",
       "      <td>62</td>\n",
       "    </tr>\n",
       "  </tbody>\n",
       "</table>\n",
       "</div>"
      ],
      "text/plain": [
       "Major        Accounting  CIS  Economics/Finance  International Business  \\\n",
       "Gender                                                                    \n",
       "Female                3    3                  7                       4   \n",
       "Male                  4    1                  4                       2   \n",
       "Major_Total           7    4                 11                       6   \n",
       "\n",
       "Major        Management  Other  Retailing/Marketing  Undecided  Gender_Total  \n",
       "Gender                                                                        \n",
       "Female                4      3                    9          0            33  \n",
       "Male                  6      4                    5          3            29  \n",
       "Major_Total          10      7                   14          3            62  "
      ]
     },
     "execution_count": 106,
     "metadata": {},
     "output_type": "execute_result"
    }
   ],
   "source": [
    "ct1"
   ]
  },
  {
   "cell_type": "code",
   "execution_count": 114,
   "id": "bac8c433",
   "metadata": {
    "ExecuteTime": {
     "end_time": "2022-02-27T00:46:22.265870Z",
     "start_time": "2022-02-27T00:46:22.234614Z"
    }
   },
   "outputs": [
    {
     "data": {
      "text/plain": [
       "0.47"
      ]
     },
     "execution_count": 114,
     "metadata": {},
     "output_type": "execute_result"
    }
   ],
   "source": [
    "p_male = ct1.iloc[1,8]/ct1.iloc[2,8]\n",
    "round(p_male,2)"
   ]
  },
  {
   "cell_type": "markdown",
   "id": "e7caa294",
   "metadata": {},
   "source": [
    "### What is the probability that a randomly selected CMSU student will be female?"
   ]
  },
  {
   "cell_type": "code",
   "execution_count": 115,
   "id": "eec7f5a8",
   "metadata": {
    "ExecuteTime": {
     "end_time": "2022-02-27T00:46:44.603587Z",
     "start_time": "2022-02-27T00:46:44.591590Z"
    }
   },
   "outputs": [
    {
     "data": {
      "text/plain": [
       "0.53"
      ]
     },
     "execution_count": 115,
     "metadata": {},
     "output_type": "execute_result"
    }
   ],
   "source": [
    "p_female = ct1.iloc[0,8]/ct1.iloc[2,8]\n",
    "round(p_female,2)"
   ]
  },
  {
   "cell_type": "markdown",
   "id": "a8b19016",
   "metadata": {},
   "source": [
    "## Assume that the sample is representative of the population of CMSU. Based on the data, answer the following question:"
   ]
  },
  {
   "cell_type": "markdown",
   "id": "70efa47b",
   "metadata": {},
   "source": [
    "### Find the conditional probability of different majors among the male students in CMSU."
   ]
  },
  {
   "cell_type": "code",
   "execution_count": 109,
   "id": "029291f8",
   "metadata": {
    "ExecuteTime": {
     "end_time": "2022-02-27T00:38:08.214652Z",
     "start_time": "2022-02-27T00:38:08.182647Z"
    }
   },
   "outputs": [
    {
     "data": {
      "text/html": [
       "<div>\n",
       "<style scoped>\n",
       "    .dataframe tbody tr th:only-of-type {\n",
       "        vertical-align: middle;\n",
       "    }\n",
       "\n",
       "    .dataframe tbody tr th {\n",
       "        vertical-align: top;\n",
       "    }\n",
       "\n",
       "    .dataframe thead th {\n",
       "        text-align: right;\n",
       "    }\n",
       "</style>\n",
       "<table border=\"1\" class=\"dataframe\">\n",
       "  <thead>\n",
       "    <tr style=\"text-align: right;\">\n",
       "      <th>Major</th>\n",
       "      <th>Accounting</th>\n",
       "      <th>CIS</th>\n",
       "      <th>Economics/Finance</th>\n",
       "      <th>International Business</th>\n",
       "      <th>Management</th>\n",
       "      <th>Other</th>\n",
       "      <th>Retailing/Marketing</th>\n",
       "      <th>Undecided</th>\n",
       "      <th>Gender_Total</th>\n",
       "    </tr>\n",
       "    <tr>\n",
       "      <th>Gender</th>\n",
       "      <th></th>\n",
       "      <th></th>\n",
       "      <th></th>\n",
       "      <th></th>\n",
       "      <th></th>\n",
       "      <th></th>\n",
       "      <th></th>\n",
       "      <th></th>\n",
       "      <th></th>\n",
       "    </tr>\n",
       "  </thead>\n",
       "  <tbody>\n",
       "    <tr>\n",
       "      <th>Female</th>\n",
       "      <td>3</td>\n",
       "      <td>3</td>\n",
       "      <td>7</td>\n",
       "      <td>4</td>\n",
       "      <td>4</td>\n",
       "      <td>3</td>\n",
       "      <td>9</td>\n",
       "      <td>0</td>\n",
       "      <td>33</td>\n",
       "    </tr>\n",
       "    <tr>\n",
       "      <th>Male</th>\n",
       "      <td>4</td>\n",
       "      <td>1</td>\n",
       "      <td>4</td>\n",
       "      <td>2</td>\n",
       "      <td>6</td>\n",
       "      <td>4</td>\n",
       "      <td>5</td>\n",
       "      <td>3</td>\n",
       "      <td>29</td>\n",
       "    </tr>\n",
       "    <tr>\n",
       "      <th>Major_Total</th>\n",
       "      <td>7</td>\n",
       "      <td>4</td>\n",
       "      <td>11</td>\n",
       "      <td>6</td>\n",
       "      <td>10</td>\n",
       "      <td>7</td>\n",
       "      <td>14</td>\n",
       "      <td>3</td>\n",
       "      <td>62</td>\n",
       "    </tr>\n",
       "  </tbody>\n",
       "</table>\n",
       "</div>"
      ],
      "text/plain": [
       "Major        Accounting  CIS  Economics/Finance  International Business  \\\n",
       "Gender                                                                    \n",
       "Female                3    3                  7                       4   \n",
       "Male                  4    1                  4                       2   \n",
       "Major_Total           7    4                 11                       6   \n",
       "\n",
       "Major        Management  Other  Retailing/Marketing  Undecided  Gender_Total  \n",
       "Gender                                                                        \n",
       "Female                4      3                    9          0            33  \n",
       "Male                  6      4                    5          3            29  \n",
       "Major_Total          10      7                   14          3            62  "
      ]
     },
     "execution_count": 109,
     "metadata": {},
     "output_type": "execute_result"
    }
   ],
   "source": [
    "ct1"
   ]
  },
  {
   "cell_type": "code",
   "execution_count": null,
   "id": "43534273",
   "metadata": {},
   "outputs": [],
   "source": []
  },
  {
   "cell_type": "code",
   "execution_count": 110,
   "id": "9e22184d",
   "metadata": {
    "ExecuteTime": {
     "end_time": "2022-02-27T00:38:10.704285Z",
     "start_time": "2022-02-27T00:38:10.662272Z"
    }
   },
   "outputs": [
    {
     "data": {
      "text/html": [
       "<div>\n",
       "<style scoped>\n",
       "    .dataframe tbody tr th:only-of-type {\n",
       "        vertical-align: middle;\n",
       "    }\n",
       "\n",
       "    .dataframe tbody tr th {\n",
       "        vertical-align: top;\n",
       "    }\n",
       "\n",
       "    .dataframe thead th {\n",
       "        text-align: right;\n",
       "    }\n",
       "</style>\n",
       "<table border=\"1\" class=\"dataframe\">\n",
       "  <thead>\n",
       "    <tr style=\"text-align: right;\">\n",
       "      <th></th>\n",
       "      <th>Conditional Probability</th>\n",
       "    </tr>\n",
       "  </thead>\n",
       "  <tbody>\n",
       "    <tr>\n",
       "      <th>P(Acc|male)</th>\n",
       "      <td>0.14</td>\n",
       "    </tr>\n",
       "    <tr>\n",
       "      <th>P(CIS|male)</th>\n",
       "      <td>0.03</td>\n",
       "    </tr>\n",
       "    <tr>\n",
       "      <th>P(ECFI|male)</th>\n",
       "      <td>0.14</td>\n",
       "    </tr>\n",
       "    <tr>\n",
       "      <th>P(IB|male)</th>\n",
       "      <td>0.07</td>\n",
       "    </tr>\n",
       "    <tr>\n",
       "      <th>P(MGT|male)</th>\n",
       "      <td>0.21</td>\n",
       "    </tr>\n",
       "    <tr>\n",
       "      <th>P(Oth|male)</th>\n",
       "      <td>0.14</td>\n",
       "    </tr>\n",
       "    <tr>\n",
       "      <th>P(RMA|male)</th>\n",
       "      <td>0.17</td>\n",
       "    </tr>\n",
       "    <tr>\n",
       "      <th>P(Und|male)</th>\n",
       "      <td>0.10</td>\n",
       "    </tr>\n",
       "  </tbody>\n",
       "</table>\n",
       "</div>"
      ],
      "text/plain": [
       "              Conditional Probability\n",
       "P(Acc|male)                      0.14\n",
       "P(CIS|male)                      0.03\n",
       "P(ECFI|male)                     0.14\n",
       "P(IB|male)                       0.07\n",
       "P(MGT|male)                      0.21\n",
       "P(Oth|male)                      0.14\n",
       "P(RMA|male)                      0.17\n",
       "P(Und|male)                      0.10"
      ]
     },
     "execution_count": 110,
     "metadata": {},
     "output_type": "execute_result"
    }
   ],
   "source": [
    "p_acc_male = ct1.iloc[1,0]/ct1.iloc[1,8]\n",
    "p_acc_male\n",
    "p_cis_male = ct1.iloc[1,1]/ct1.iloc[1,8]\n",
    "p_cis_male\n",
    "p_ecfi_male = ct1.iloc[1,2]/ct1.iloc[1,8]\n",
    "p_ecfi_male\n",
    "p_ib_male = ct1.iloc[1,3]/ct1.iloc[1,8]\n",
    "p_ib_male\n",
    "p_mgt_male = ct1.iloc[1,4]/ct1.iloc[1,8]\n",
    "p_mgt_male\n",
    "p_oth_male = ct1.iloc[1,5]/ct1.iloc[1,8]\n",
    "p_oth_male\n",
    "p_rma_male = ct1.iloc[1,6]/ct1.iloc[1,8]\n",
    "p_rma_male\n",
    "p_und_male = ct1.iloc[1,7]/ct1.iloc[1,8]\n",
    "p_und_male\n",
    "cond_maj_index = [\"P(Acc|male)\",\"P(CIS|male)\",\"P(ECFI|male)\",\"P(IB|male)\",\"P(MGT|male)\",\"P(Oth|male)\",\"P(RMA|male)\",\"P(Und|male)\"]\n",
    "cond_maj_values = [p_acc_male,p_cis_male,p_ecfi_male,p_ib_male,p_mgt_male,p_oth_male,p_rma_male,p_und_male]\n",
    "cond_maj = pd.DataFrame(data=cond_maj_values, index=cond_maj_index)\n",
    "cond_maj.rename(columns={0:\"Conditional Probability\"},inplace=True)\n",
    "cond_maj"
   ]
  },
  {
   "cell_type": "markdown",
   "id": "5d7852ee",
   "metadata": {},
   "source": [
    "### Find the conditional probability of different majors among the female students of CMSU"
   ]
  },
  {
   "cell_type": "code",
   "execution_count": 111,
   "id": "5ea34d5d",
   "metadata": {
    "ExecuteTime": {
     "end_time": "2022-02-27T00:38:18.678341Z",
     "start_time": "2022-02-27T00:38:18.630304Z"
    }
   },
   "outputs": [
    {
     "data": {
      "text/html": [
       "<div>\n",
       "<style scoped>\n",
       "    .dataframe tbody tr th:only-of-type {\n",
       "        vertical-align: middle;\n",
       "    }\n",
       "\n",
       "    .dataframe tbody tr th {\n",
       "        vertical-align: top;\n",
       "    }\n",
       "\n",
       "    .dataframe thead th {\n",
       "        text-align: right;\n",
       "    }\n",
       "</style>\n",
       "<table border=\"1\" class=\"dataframe\">\n",
       "  <thead>\n",
       "    <tr style=\"text-align: right;\">\n",
       "      <th></th>\n",
       "      <th>Conditional Probability</th>\n",
       "    </tr>\n",
       "  </thead>\n",
       "  <tbody>\n",
       "    <tr>\n",
       "      <th>P(Acc|female)</th>\n",
       "      <td>0.09</td>\n",
       "    </tr>\n",
       "    <tr>\n",
       "      <th>P(CIS|female)</th>\n",
       "      <td>0.09</td>\n",
       "    </tr>\n",
       "    <tr>\n",
       "      <th>P(ECFI|female)</th>\n",
       "      <td>0.21</td>\n",
       "    </tr>\n",
       "    <tr>\n",
       "      <th>P(IB|female)</th>\n",
       "      <td>0.12</td>\n",
       "    </tr>\n",
       "    <tr>\n",
       "      <th>P(MGT|female)</th>\n",
       "      <td>0.12</td>\n",
       "    </tr>\n",
       "    <tr>\n",
       "      <th>P(Oth|female)</th>\n",
       "      <td>0.09</td>\n",
       "    </tr>\n",
       "    <tr>\n",
       "      <th>P(RMA|female)</th>\n",
       "      <td>0.27</td>\n",
       "    </tr>\n",
       "    <tr>\n",
       "      <th>P(Und|female)</th>\n",
       "      <td>0.00</td>\n",
       "    </tr>\n",
       "  </tbody>\n",
       "</table>\n",
       "</div>"
      ],
      "text/plain": [
       "                Conditional Probability\n",
       "P(Acc|female)                      0.09\n",
       "P(CIS|female)                      0.09\n",
       "P(ECFI|female)                     0.21\n",
       "P(IB|female)                       0.12\n",
       "P(MGT|female)                      0.12\n",
       "P(Oth|female)                      0.09\n",
       "P(RMA|female)                      0.27\n",
       "P(Und|female)                      0.00"
      ]
     },
     "execution_count": 111,
     "metadata": {},
     "output_type": "execute_result"
    }
   ],
   "source": [
    "p_acc_female = ct1.iloc[0,0]/ct1.iloc[0,8]\n",
    "p_acc_female\n",
    "p_cis_female = ct1.iloc[0,1]/ct1.iloc[0,8]\n",
    "p_cis_female\n",
    "p_ecfi_female = ct1.iloc[0,2]/ct1.iloc[0,8]\n",
    "p_ecfi_female\n",
    "p_ib_female = ct1.iloc[0,3]/ct1.iloc[0,8]\n",
    "p_ib_female\n",
    "p_mgt_female = ct1.iloc[0,4]/ct1.iloc[0,8]\n",
    "p_mgt_female\n",
    "p_oth_female = ct1.iloc[0,5]/ct1.iloc[0,8]\n",
    "p_oth_female\n",
    "p_rma_female = ct1.iloc[0,6]/ct1.iloc[0,8]\n",
    "p_rma_female\n",
    "p_und_female = ct1.iloc[0,7]/ct1.iloc[0,8]\n",
    "p_und_female\n",
    "cond_maj_index_female = [\"P(Acc|female)\",\"P(CIS|female)\",\"P(ECFI|female)\",\"P(IB|female)\",\"P(MGT|female)\",\"P(Oth|female)\",\"P(RMA|female)\",\"P(Und|female)\"]\n",
    "cond_maj_values_female = [p_acc_female,p_cis_female,p_ecfi_female,p_ib_female,p_mgt_female,p_oth_female,p_rma_female,p_und_female]\n",
    "cond_maj_female = pd.DataFrame(data=cond_maj_values_female, index=cond_maj_index_female)\n",
    "cond_maj_female.rename(columns={0:\"Conditional Probability\"},inplace=True)\n",
    "cond_maj_female"
   ]
  },
  {
   "cell_type": "markdown",
   "id": "e8ccff34",
   "metadata": {},
   "source": [
    "## Assume that the sample is a representative of the population of CMSU. Based on the data, answer the following question:"
   ]
  },
  {
   "cell_type": "markdown",
   "id": "bc45b636",
   "metadata": {},
   "source": [
    "### Find the probability That a randomly chosen student is a male and intends to graduate."
   ]
  },
  {
   "cell_type": "code",
   "execution_count": 112,
   "id": "f10e66e2",
   "metadata": {
    "ExecuteTime": {
     "end_time": "2022-02-27T00:40:58.457514Z",
     "start_time": "2022-02-27T00:40:58.436508Z"
    }
   },
   "outputs": [
    {
     "data": {
      "text/html": [
       "<div>\n",
       "<style scoped>\n",
       "    .dataframe tbody tr th:only-of-type {\n",
       "        vertical-align: middle;\n",
       "    }\n",
       "\n",
       "    .dataframe tbody tr th {\n",
       "        vertical-align: top;\n",
       "    }\n",
       "\n",
       "    .dataframe thead th {\n",
       "        text-align: right;\n",
       "    }\n",
       "</style>\n",
       "<table border=\"1\" class=\"dataframe\">\n",
       "  <thead>\n",
       "    <tr style=\"text-align: right;\">\n",
       "      <th>Grad Intention</th>\n",
       "      <th>No</th>\n",
       "      <th>Undecided</th>\n",
       "      <th>Yes</th>\n",
       "      <th>Gender_Total</th>\n",
       "    </tr>\n",
       "    <tr>\n",
       "      <th>Gender</th>\n",
       "      <th></th>\n",
       "      <th></th>\n",
       "      <th></th>\n",
       "      <th></th>\n",
       "    </tr>\n",
       "  </thead>\n",
       "  <tbody>\n",
       "    <tr>\n",
       "      <th>Female</th>\n",
       "      <td>9</td>\n",
       "      <td>13</td>\n",
       "      <td>11</td>\n",
       "      <td>33</td>\n",
       "    </tr>\n",
       "    <tr>\n",
       "      <th>Male</th>\n",
       "      <td>3</td>\n",
       "      <td>9</td>\n",
       "      <td>17</td>\n",
       "      <td>29</td>\n",
       "    </tr>\n",
       "    <tr>\n",
       "      <th>Grad Intention_Total</th>\n",
       "      <td>12</td>\n",
       "      <td>22</td>\n",
       "      <td>28</td>\n",
       "      <td>62</td>\n",
       "    </tr>\n",
       "  </tbody>\n",
       "</table>\n",
       "</div>"
      ],
      "text/plain": [
       "Grad Intention        No  Undecided  Yes  Gender_Total\n",
       "Gender                                                \n",
       "Female                 9         13   11            33\n",
       "Male                   3          9   17            29\n",
       "Grad Intention_Total  12         22   28            62"
      ]
     },
     "execution_count": 112,
     "metadata": {},
     "output_type": "execute_result"
    }
   ],
   "source": [
    "ct2"
   ]
  },
  {
   "cell_type": "code",
   "execution_count": 116,
   "id": "84e4af91",
   "metadata": {
    "ExecuteTime": {
     "end_time": "2022-02-27T00:49:04.585631Z",
     "start_time": "2022-02-27T00:49:04.565631Z"
    }
   },
   "outputs": [
    {
     "data": {
      "text/plain": [
       "0.27"
      ]
     },
     "execution_count": 116,
     "metadata": {},
     "output_type": "execute_result"
    }
   ],
   "source": [
    "p_male_intgrad = ct2.iloc[1,2]/ct2.iloc[2,3]\n",
    "round(p_male_intgrad,2)"
   ]
  },
  {
   "cell_type": "markdown",
   "id": "b6fec17f",
   "metadata": {},
   "source": [
    "### Find the probability that a randomly selected student is a female and does NOT have a laptop."
   ]
  },
  {
   "cell_type": "code",
   "execution_count": 117,
   "id": "675c1e57",
   "metadata": {
    "ExecuteTime": {
     "end_time": "2022-02-27T00:50:22.421128Z",
     "start_time": "2022-02-27T00:50:22.398120Z"
    }
   },
   "outputs": [
    {
     "data": {
      "text/html": [
       "<div>\n",
       "<style scoped>\n",
       "    .dataframe tbody tr th:only-of-type {\n",
       "        vertical-align: middle;\n",
       "    }\n",
       "\n",
       "    .dataframe tbody tr th {\n",
       "        vertical-align: top;\n",
       "    }\n",
       "\n",
       "    .dataframe thead th {\n",
       "        text-align: right;\n",
       "    }\n",
       "</style>\n",
       "<table border=\"1\" class=\"dataframe\">\n",
       "  <thead>\n",
       "    <tr style=\"text-align: right;\">\n",
       "      <th>Computer</th>\n",
       "      <th>Desktop</th>\n",
       "      <th>Laptop</th>\n",
       "      <th>Tablet</th>\n",
       "      <th>Gender_Total</th>\n",
       "    </tr>\n",
       "    <tr>\n",
       "      <th>Gender</th>\n",
       "      <th></th>\n",
       "      <th></th>\n",
       "      <th></th>\n",
       "      <th></th>\n",
       "    </tr>\n",
       "  </thead>\n",
       "  <tbody>\n",
       "    <tr>\n",
       "      <th>Female</th>\n",
       "      <td>2</td>\n",
       "      <td>29</td>\n",
       "      <td>2</td>\n",
       "      <td>33</td>\n",
       "    </tr>\n",
       "    <tr>\n",
       "      <th>Male</th>\n",
       "      <td>3</td>\n",
       "      <td>26</td>\n",
       "      <td>0</td>\n",
       "      <td>29</td>\n",
       "    </tr>\n",
       "    <tr>\n",
       "      <th>Computer_Total</th>\n",
       "      <td>5</td>\n",
       "      <td>55</td>\n",
       "      <td>2</td>\n",
       "      <td>62</td>\n",
       "    </tr>\n",
       "  </tbody>\n",
       "</table>\n",
       "</div>"
      ],
      "text/plain": [
       "Computer        Desktop  Laptop  Tablet  Gender_Total\n",
       "Gender                                               \n",
       "Female                2      29       2            33\n",
       "Male                  3      26       0            29\n",
       "Computer_Total        5      55       2            62"
      ]
     },
     "execution_count": 117,
     "metadata": {},
     "output_type": "execute_result"
    }
   ],
   "source": [
    "ct4"
   ]
  },
  {
   "cell_type": "code",
   "execution_count": 120,
   "id": "060ec477",
   "metadata": {
    "ExecuteTime": {
     "end_time": "2022-02-27T00:54:40.953319Z",
     "start_time": "2022-02-27T00:54:40.938319Z"
    }
   },
   "outputs": [
    {
     "data": {
      "text/plain": [
       "0.06"
      ]
     },
     "execution_count": 120,
     "metadata": {},
     "output_type": "execute_result"
    }
   ],
   "source": [
    "p_female_nolap = (ct4.iloc[0,0] + ct4.iloc[0,2]) /ct4.iloc[2,3]\n",
    "round(p_female_nolap,2)"
   ]
  },
  {
   "cell_type": "markdown",
   "id": "8aebc40c",
   "metadata": {},
   "source": [
    "##  Assume that the sample is representative of the population of CMSU. Based on the data, answer the following question:"
   ]
  },
  {
   "cell_type": "markdown",
   "id": "7fae566c",
   "metadata": {},
   "source": [
    "### Find the probability that a randomly chosen student is a male or has full-time employment?"
   ]
  },
  {
   "cell_type": "code",
   "execution_count": 121,
   "id": "d00b2b8e",
   "metadata": {
    "ExecuteTime": {
     "end_time": "2022-02-27T00:57:01.705082Z",
     "start_time": "2022-02-27T00:57:01.671072Z"
    }
   },
   "outputs": [
    {
     "data": {
      "text/html": [
       "<div>\n",
       "<style scoped>\n",
       "    .dataframe tbody tr th:only-of-type {\n",
       "        vertical-align: middle;\n",
       "    }\n",
       "\n",
       "    .dataframe tbody tr th {\n",
       "        vertical-align: top;\n",
       "    }\n",
       "\n",
       "    .dataframe thead th {\n",
       "        text-align: right;\n",
       "    }\n",
       "</style>\n",
       "<table border=\"1\" class=\"dataframe\">\n",
       "  <thead>\n",
       "    <tr style=\"text-align: right;\">\n",
       "      <th>Employment</th>\n",
       "      <th>Full-Time</th>\n",
       "      <th>Part-Time</th>\n",
       "      <th>Unemployed</th>\n",
       "      <th>Gender_Total</th>\n",
       "    </tr>\n",
       "    <tr>\n",
       "      <th>Gender</th>\n",
       "      <th></th>\n",
       "      <th></th>\n",
       "      <th></th>\n",
       "      <th></th>\n",
       "    </tr>\n",
       "  </thead>\n",
       "  <tbody>\n",
       "    <tr>\n",
       "      <th>Female</th>\n",
       "      <td>3</td>\n",
       "      <td>24</td>\n",
       "      <td>6</td>\n",
       "      <td>33</td>\n",
       "    </tr>\n",
       "    <tr>\n",
       "      <th>Male</th>\n",
       "      <td>7</td>\n",
       "      <td>19</td>\n",
       "      <td>3</td>\n",
       "      <td>29</td>\n",
       "    </tr>\n",
       "    <tr>\n",
       "      <th>Employment_Total</th>\n",
       "      <td>10</td>\n",
       "      <td>43</td>\n",
       "      <td>9</td>\n",
       "      <td>62</td>\n",
       "    </tr>\n",
       "  </tbody>\n",
       "</table>\n",
       "</div>"
      ],
      "text/plain": [
       "Employment        Full-Time  Part-Time  Unemployed  Gender_Total\n",
       "Gender                                                          \n",
       "Female                    3         24           6            33\n",
       "Male                      7         19           3            29\n",
       "Employment_Total         10         43           9            62"
      ]
     },
     "execution_count": 121,
     "metadata": {},
     "output_type": "execute_result"
    }
   ],
   "source": [
    "ct3"
   ]
  },
  {
   "cell_type": "code",
   "execution_count": 122,
   "id": "1a5d0c5f",
   "metadata": {
    "ExecuteTime": {
     "end_time": "2022-02-27T01:02:00.870067Z",
     "start_time": "2022-02-27T01:02:00.841060Z"
    }
   },
   "outputs": [
    {
     "data": {
      "text/plain": [
       "0.52"
      ]
     },
     "execution_count": 122,
     "metadata": {},
     "output_type": "execute_result"
    }
   ],
   "source": [
    "p_male = ct3.iloc[1,3]/ct3.iloc[2,3]\n",
    "p_fulltime = ct3.iloc[2,0]/ct3.iloc[2,3]\n",
    "p_male_fulltime = ct3.iloc[1,0]/ct3.iloc[2,3]\n",
    "p_male_or_ft = p_male + p_fulltime - p_male_fulltime\n",
    "round(p_male_or_ft,2)"
   ]
  },
  {
   "cell_type": "markdown",
   "id": "99cf88ee",
   "metadata": {},
   "source": [
    "### Find the conditional probability that given a female student is randomly chosen, she is majoring in international business or management."
   ]
  },
  {
   "cell_type": "code",
   "execution_count": 123,
   "id": "c76e1d5d",
   "metadata": {
    "ExecuteTime": {
     "end_time": "2022-02-27T01:59:42.385017Z",
     "start_time": "2022-02-27T01:59:42.355014Z"
    }
   },
   "outputs": [
    {
     "data": {
      "text/html": [
       "<div>\n",
       "<style scoped>\n",
       "    .dataframe tbody tr th:only-of-type {\n",
       "        vertical-align: middle;\n",
       "    }\n",
       "\n",
       "    .dataframe tbody tr th {\n",
       "        vertical-align: top;\n",
       "    }\n",
       "\n",
       "    .dataframe thead th {\n",
       "        text-align: right;\n",
       "    }\n",
       "</style>\n",
       "<table border=\"1\" class=\"dataframe\">\n",
       "  <thead>\n",
       "    <tr style=\"text-align: right;\">\n",
       "      <th>Major</th>\n",
       "      <th>Accounting</th>\n",
       "      <th>CIS</th>\n",
       "      <th>Economics/Finance</th>\n",
       "      <th>International Business</th>\n",
       "      <th>Management</th>\n",
       "      <th>Other</th>\n",
       "      <th>Retailing/Marketing</th>\n",
       "      <th>Undecided</th>\n",
       "      <th>Gender_Total</th>\n",
       "    </tr>\n",
       "    <tr>\n",
       "      <th>Gender</th>\n",
       "      <th></th>\n",
       "      <th></th>\n",
       "      <th></th>\n",
       "      <th></th>\n",
       "      <th></th>\n",
       "      <th></th>\n",
       "      <th></th>\n",
       "      <th></th>\n",
       "      <th></th>\n",
       "    </tr>\n",
       "  </thead>\n",
       "  <tbody>\n",
       "    <tr>\n",
       "      <th>Female</th>\n",
       "      <td>3</td>\n",
       "      <td>3</td>\n",
       "      <td>7</td>\n",
       "      <td>4</td>\n",
       "      <td>4</td>\n",
       "      <td>3</td>\n",
       "      <td>9</td>\n",
       "      <td>0</td>\n",
       "      <td>33</td>\n",
       "    </tr>\n",
       "    <tr>\n",
       "      <th>Male</th>\n",
       "      <td>4</td>\n",
       "      <td>1</td>\n",
       "      <td>4</td>\n",
       "      <td>2</td>\n",
       "      <td>6</td>\n",
       "      <td>4</td>\n",
       "      <td>5</td>\n",
       "      <td>3</td>\n",
       "      <td>29</td>\n",
       "    </tr>\n",
       "    <tr>\n",
       "      <th>Major_Total</th>\n",
       "      <td>7</td>\n",
       "      <td>4</td>\n",
       "      <td>11</td>\n",
       "      <td>6</td>\n",
       "      <td>10</td>\n",
       "      <td>7</td>\n",
       "      <td>14</td>\n",
       "      <td>3</td>\n",
       "      <td>62</td>\n",
       "    </tr>\n",
       "  </tbody>\n",
       "</table>\n",
       "</div>"
      ],
      "text/plain": [
       "Major        Accounting  CIS  Economics/Finance  International Business  \\\n",
       "Gender                                                                    \n",
       "Female                3    3                  7                       4   \n",
       "Male                  4    1                  4                       2   \n",
       "Major_Total           7    4                 11                       6   \n",
       "\n",
       "Major        Management  Other  Retailing/Marketing  Undecided  Gender_Total  \n",
       "Gender                                                                        \n",
       "Female                4      3                    9          0            33  \n",
       "Male                  6      4                    5          3            29  \n",
       "Major_Total          10      7                   14          3            62  "
      ]
     },
     "execution_count": 123,
     "metadata": {},
     "output_type": "execute_result"
    }
   ],
   "source": [
    "ct1"
   ]
  },
  {
   "cell_type": "code",
   "execution_count": 127,
   "id": "61d44861",
   "metadata": {
    "ExecuteTime": {
     "end_time": "2022-02-27T02:11:48.775455Z",
     "start_time": "2022-02-27T02:11:48.748454Z"
    }
   },
   "outputs": [
    {
     "data": {
      "text/plain": [
       "0.24242424242424243"
      ]
     },
     "execution_count": 127,
     "metadata": {},
     "output_type": "execute_result"
    }
   ],
   "source": [
    "p_female_ib_mgt = (ct1.iloc[0,3] + ct1.iloc[0,4]) /ct1.iloc[2,8]\n",
    "p_female_ib_mgt_givFem = p_female_ib_mgt/p_female\n",
    "p_female_ib_mgt_givFem"
   ]
  },
  {
   "cell_type": "markdown",
   "id": "fa310ad4",
   "metadata": {},
   "source": [
    "##  Construct a contingency table of Gender and Intent to Graduate at 2 levels (Yes/No). The Undecided students are not considered now and the table is a 2x2 table. Do you think the graduate intention and being female are independent events?"
   ]
  },
  {
   "cell_type": "code",
   "execution_count": 139,
   "id": "59f26806",
   "metadata": {
    "ExecuteTime": {
     "end_time": "2022-02-27T02:19:24.738787Z",
     "start_time": "2022-02-27T02:19:24.697778Z"
    }
   },
   "outputs": [
    {
     "data": {
      "text/html": [
       "<div>\n",
       "<style scoped>\n",
       "    .dataframe tbody tr th:only-of-type {\n",
       "        vertical-align: middle;\n",
       "    }\n",
       "\n",
       "    .dataframe tbody tr th {\n",
       "        vertical-align: top;\n",
       "    }\n",
       "\n",
       "    .dataframe thead th {\n",
       "        text-align: right;\n",
       "    }\n",
       "</style>\n",
       "<table border=\"1\" class=\"dataframe\">\n",
       "  <thead>\n",
       "    <tr style=\"text-align: right;\">\n",
       "      <th></th>\n",
       "      <th>ID</th>\n",
       "      <th>Gender</th>\n",
       "      <th>Age</th>\n",
       "      <th>Class</th>\n",
       "      <th>Major</th>\n",
       "      <th>Grad Intention</th>\n",
       "      <th>GPA</th>\n",
       "      <th>Employment</th>\n",
       "      <th>Salary</th>\n",
       "      <th>Social Networking</th>\n",
       "      <th>Satisfaction</th>\n",
       "      <th>Spending</th>\n",
       "      <th>Computer</th>\n",
       "      <th>Text Messages</th>\n",
       "    </tr>\n",
       "  </thead>\n",
       "  <tbody>\n",
       "    <tr>\n",
       "      <th>0</th>\n",
       "      <td>1</td>\n",
       "      <td>Female</td>\n",
       "      <td>20</td>\n",
       "      <td>Junior</td>\n",
       "      <td>Other</td>\n",
       "      <td>Yes</td>\n",
       "      <td>2.90</td>\n",
       "      <td>Full-Time</td>\n",
       "      <td>50.00</td>\n",
       "      <td>1</td>\n",
       "      <td>3</td>\n",
       "      <td>350</td>\n",
       "      <td>Laptop</td>\n",
       "      <td>200</td>\n",
       "    </tr>\n",
       "  </tbody>\n",
       "</table>\n",
       "</div>"
      ],
      "text/plain": [
       "   ID  Gender  Age   Class  Major Grad Intention  GPA Employment  Salary  \\\n",
       "0   1  Female   20  Junior  Other            Yes 2.90  Full-Time   50.00   \n",
       "\n",
       "   Social Networking  Satisfaction  Spending Computer  Text Messages  \n",
       "0                  1             3       350   Laptop            200  "
      ]
     },
     "execution_count": 139,
     "metadata": {},
     "output_type": "execute_result"
    }
   ],
   "source": [
    "survey_grad = survey[(survey[\"Grad Intention\"]==\"Yes\") | (survey[\"Grad Intention\"]==\"No\")]\n",
    "survey_grad.head(1)"
   ]
  },
  {
   "cell_type": "code",
   "execution_count": 138,
   "id": "85831319",
   "metadata": {
    "ExecuteTime": {
     "end_time": "2022-02-27T02:19:15.535553Z",
     "start_time": "2022-02-27T02:19:15.460536Z"
    }
   },
   "outputs": [
    {
     "data": {
      "text/plain": [
       "array(['Yes', 'No'], dtype=object)"
      ]
     },
     "execution_count": 138,
     "metadata": {},
     "output_type": "execute_result"
    }
   ],
   "source": [
    "survey_grad[\"Grad Intention\"].unique()"
   ]
  },
  {
   "cell_type": "code",
   "execution_count": 140,
   "id": "cfa2140b",
   "metadata": {
    "ExecuteTime": {
     "end_time": "2022-02-27T02:22:59.538273Z",
     "start_time": "2022-02-27T02:22:59.378238Z"
    }
   },
   "outputs": [
    {
     "data": {
      "text/html": [
       "<div>\n",
       "<style scoped>\n",
       "    .dataframe tbody tr th:only-of-type {\n",
       "        vertical-align: middle;\n",
       "    }\n",
       "\n",
       "    .dataframe tbody tr th {\n",
       "        vertical-align: top;\n",
       "    }\n",
       "\n",
       "    .dataframe thead th {\n",
       "        text-align: right;\n",
       "    }\n",
       "</style>\n",
       "<table border=\"1\" class=\"dataframe\">\n",
       "  <thead>\n",
       "    <tr style=\"text-align: right;\">\n",
       "      <th>Grad Intention</th>\n",
       "      <th>No</th>\n",
       "      <th>Yes</th>\n",
       "      <th>Gender_Total</th>\n",
       "    </tr>\n",
       "    <tr>\n",
       "      <th>Gender</th>\n",
       "      <th></th>\n",
       "      <th></th>\n",
       "      <th></th>\n",
       "    </tr>\n",
       "  </thead>\n",
       "  <tbody>\n",
       "    <tr>\n",
       "      <th>Female</th>\n",
       "      <td>9</td>\n",
       "      <td>11</td>\n",
       "      <td>20</td>\n",
       "    </tr>\n",
       "    <tr>\n",
       "      <th>Male</th>\n",
       "      <td>3</td>\n",
       "      <td>17</td>\n",
       "      <td>20</td>\n",
       "    </tr>\n",
       "    <tr>\n",
       "      <th>Grad Intention_Total</th>\n",
       "      <td>12</td>\n",
       "      <td>28</td>\n",
       "      <td>40</td>\n",
       "    </tr>\n",
       "  </tbody>\n",
       "</table>\n",
       "</div>"
      ],
      "text/plain": [
       "Grad Intention        No  Yes  Gender_Total\n",
       "Gender                                     \n",
       "Female                 9   11            20\n",
       "Male                   3   17            20\n",
       "Grad Intention_Total  12   28            40"
      ]
     },
     "execution_count": 140,
     "metadata": {},
     "output_type": "execute_result"
    }
   ],
   "source": [
    "newct2=pd.crosstab(survey_grad[\"Gender\"],survey_grad[\"Grad Intention\"])\n",
    "newct2[\"Gender_Total\"] = newct2[\"No\"]+newct2[\"Yes\"]\n",
    "newct2.loc[len(newct2.index)]=newct2.loc[\"Female\"]+newct2.loc[\"Male\"]\n",
    "newct2.rename(index={2:\"Grad Intention_Total\"},inplace=True)\n",
    "newct2"
   ]
  },
  {
   "cell_type": "code",
   "execution_count": 145,
   "id": "30f87d9d",
   "metadata": {
    "ExecuteTime": {
     "end_time": "2022-02-27T02:36:18.004808Z",
     "start_time": "2022-02-27T02:36:17.981805Z"
    }
   },
   "outputs": [
    {
     "name": "stdout",
     "output_type": "stream",
     "text": [
      "The 2 events are not independent\n"
     ]
    }
   ],
   "source": [
    "p_newf = newct2.iloc[0,2]/newct2.iloc[2,2]\n",
    "p_yes = newct2.iloc[2,1]/newct2.iloc[2,2]\n",
    "p_newf_yes = newct2.iloc[0,1]/newct2.iloc[2,2]\n",
    "RHS = p_newf*p_yes\n",
    "if(p_newf_yes == RHS):\n",
    "    print(\"The 2 events are independent\")\n",
    "else:\n",
    "    print(\"The 2 events are not independent\")"
   ]
  },
  {
   "cell_type": "markdown",
   "id": "65c05ac9",
   "metadata": {},
   "source": [
    "## Note that there are four numerical (continuous) variables in the data set, GPA, Salary, Spending, and Text Messages. Answer the following questions based on the data"
   ]
  },
  {
   "cell_type": "markdown",
   "id": "4c015ef5",
   "metadata": {},
   "source": [
    "### If a student is chosen randomly, what is the probability that his/her GPA is less than 3?"
   ]
  },
  {
   "cell_type": "code",
   "execution_count": 146,
   "id": "58ac93a0",
   "metadata": {
    "ExecuteTime": {
     "end_time": "2022-02-27T05:59:44.966168Z",
     "start_time": "2022-02-27T05:59:44.749522Z"
    }
   },
   "outputs": [
    {
     "name": "stdout",
     "output_type": "stream",
     "text": [
      "<class 'pandas.core.frame.DataFrame'>\n",
      "RangeIndex: 62 entries, 0 to 61\n",
      "Data columns (total 14 columns):\n",
      " #   Column             Non-Null Count  Dtype  \n",
      "---  ------             --------------  -----  \n",
      " 0   ID                 62 non-null     int64  \n",
      " 1   Gender             62 non-null     object \n",
      " 2   Age                62 non-null     int64  \n",
      " 3   Class              62 non-null     object \n",
      " 4   Major              62 non-null     object \n",
      " 5   Grad Intention     62 non-null     object \n",
      " 6   GPA                62 non-null     float64\n",
      " 7   Employment         62 non-null     object \n",
      " 8   Salary             62 non-null     float64\n",
      " 9   Social Networking  62 non-null     int64  \n",
      " 10  Satisfaction       62 non-null     int64  \n",
      " 11  Spending           62 non-null     int64  \n",
      " 12  Computer           62 non-null     object \n",
      " 13  Text Messages      62 non-null     int64  \n",
      "dtypes: float64(2), int64(6), object(6)\n",
      "memory usage: 6.9+ KB\n"
     ]
    }
   ],
   "source": [
    "survey.info()"
   ]
  },
  {
   "cell_type": "code",
   "execution_count": 157,
   "id": "97af5b03",
   "metadata": {
    "ExecuteTime": {
     "end_time": "2022-02-27T06:11:19.547269Z",
     "start_time": "2022-02-27T06:11:19.498254Z"
    }
   },
   "outputs": [
    {
     "data": {
      "text/html": [
       "<div>\n",
       "<style scoped>\n",
       "    .dataframe tbody tr th:only-of-type {\n",
       "        vertical-align: middle;\n",
       "    }\n",
       "\n",
       "    .dataframe tbody tr th {\n",
       "        vertical-align: top;\n",
       "    }\n",
       "\n",
       "    .dataframe thead th {\n",
       "        text-align: right;\n",
       "    }\n",
       "</style>\n",
       "<table border=\"1\" class=\"dataframe\">\n",
       "  <thead>\n",
       "    <tr style=\"text-align: right;\">\n",
       "      <th></th>\n",
       "      <th>ID</th>\n",
       "      <th>Gender</th>\n",
       "      <th>Age</th>\n",
       "      <th>Class</th>\n",
       "      <th>Major</th>\n",
       "      <th>Grad Intention</th>\n",
       "      <th>GPA</th>\n",
       "      <th>Employment</th>\n",
       "      <th>Salary</th>\n",
       "      <th>Social Networking</th>\n",
       "      <th>Satisfaction</th>\n",
       "      <th>Spending</th>\n",
       "      <th>Computer</th>\n",
       "      <th>Text Messages</th>\n",
       "    </tr>\n",
       "  </thead>\n",
       "  <tbody>\n",
       "    <tr>\n",
       "      <th>0</th>\n",
       "      <td>1</td>\n",
       "      <td>Female</td>\n",
       "      <td>20</td>\n",
       "      <td>Junior</td>\n",
       "      <td>Other</td>\n",
       "      <td>Yes</td>\n",
       "      <td>2.90</td>\n",
       "      <td>Full-Time</td>\n",
       "      <td>50.00</td>\n",
       "      <td>1</td>\n",
       "      <td>3</td>\n",
       "      <td>350</td>\n",
       "      <td>Laptop</td>\n",
       "      <td>200</td>\n",
       "    </tr>\n",
       "    <tr>\n",
       "      <th>2</th>\n",
       "      <td>3</td>\n",
       "      <td>Male</td>\n",
       "      <td>21</td>\n",
       "      <td>Junior</td>\n",
       "      <td>Other</td>\n",
       "      <td>Yes</td>\n",
       "      <td>2.50</td>\n",
       "      <td>Part-Time</td>\n",
       "      <td>45.00</td>\n",
       "      <td>2</td>\n",
       "      <td>4</td>\n",
       "      <td>600</td>\n",
       "      <td>Laptop</td>\n",
       "      <td>200</td>\n",
       "    </tr>\n",
       "  </tbody>\n",
       "</table>\n",
       "</div>"
      ],
      "text/plain": [
       "   ID  Gender  Age   Class  Major Grad Intention  GPA Employment  Salary  \\\n",
       "0   1  Female   20  Junior  Other            Yes 2.90  Full-Time   50.00   \n",
       "2   3    Male   21  Junior  Other            Yes 2.50  Part-Time   45.00   \n",
       "\n",
       "   Social Networking  Satisfaction  Spending Computer  Text Messages  \n",
       "0                  1             3       350   Laptop            200  \n",
       "2                  2             4       600   Laptop            200  "
      ]
     },
     "execution_count": 157,
     "metadata": {},
     "output_type": "execute_result"
    }
   ],
   "source": [
    "survey_3andless = survey[survey[\"GPA\"]<3]\n",
    "survey_3andless.head(2)"
   ]
  },
  {
   "cell_type": "code",
   "execution_count": 153,
   "id": "5224783b",
   "metadata": {
    "ExecuteTime": {
     "end_time": "2022-02-27T06:09:30.612811Z",
     "start_time": "2022-02-27T06:09:30.542762Z"
    }
   },
   "outputs": [
    {
     "data": {
      "text/plain": [
       "array([2.9, 2.5, 2.8, 2.3, 2.6, 2.4])"
      ]
     },
     "execution_count": 153,
     "metadata": {},
     "output_type": "execute_result"
    }
   ],
   "source": [
    "survey_3andless[\"GPA\"].unique()"
   ]
  },
  {
   "cell_type": "code",
   "execution_count": 155,
   "id": "631d05c7",
   "metadata": {
    "ExecuteTime": {
     "end_time": "2022-02-27T06:10:39.186199Z",
     "start_time": "2022-02-27T06:10:39.162197Z"
    }
   },
   "outputs": [
    {
     "data": {
      "text/plain": [
       "17"
      ]
     },
     "execution_count": 155,
     "metadata": {},
     "output_type": "execute_result"
    }
   ],
   "source": [
    "len(survey_3andless[\"GPA\"])"
   ]
  },
  {
   "cell_type": "code",
   "execution_count": 160,
   "id": "8434ccf6",
   "metadata": {
    "ExecuteTime": {
     "end_time": "2022-02-27T06:22:19.242924Z",
     "start_time": "2022-02-27T06:22:19.226920Z"
    }
   },
   "outputs": [
    {
     "data": {
      "text/plain": [
       "0.27"
      ]
     },
     "execution_count": 160,
     "metadata": {},
     "output_type": "execute_result"
    }
   ],
   "source": [
    "p_lessthan3 = (len(survey_3andless[\"GPA\"]))/(len(survey[\"GPA\"]))\n",
    "round(p_lessthan3,2)"
   ]
  },
  {
   "cell_type": "markdown",
   "id": "1f9aa383",
   "metadata": {},
   "source": [
    "### Find the conditional probability that a randomly selected male earns 50 or more. Find the conditional probability that a randomly selected female earns 50 or more."
   ]
  },
  {
   "cell_type": "code",
   "execution_count": 169,
   "id": "cac37ca0",
   "metadata": {
    "ExecuteTime": {
     "end_time": "2022-02-27T06:35:03.872305Z",
     "start_time": "2022-02-27T06:35:03.824303Z"
    }
   },
   "outputs": [
    {
     "data": {
      "text/html": [
       "<div>\n",
       "<style scoped>\n",
       "    .dataframe tbody tr th:only-of-type {\n",
       "        vertical-align: middle;\n",
       "    }\n",
       "\n",
       "    .dataframe tbody tr th {\n",
       "        vertical-align: top;\n",
       "    }\n",
       "\n",
       "    .dataframe thead th {\n",
       "        text-align: right;\n",
       "    }\n",
       "</style>\n",
       "<table border=\"1\" class=\"dataframe\">\n",
       "  <thead>\n",
       "    <tr style=\"text-align: right;\">\n",
       "      <th></th>\n",
       "      <th>ID</th>\n",
       "      <th>Gender</th>\n",
       "      <th>Age</th>\n",
       "      <th>Class</th>\n",
       "      <th>Major</th>\n",
       "      <th>Grad Intention</th>\n",
       "      <th>GPA</th>\n",
       "      <th>Employment</th>\n",
       "      <th>Salary</th>\n",
       "      <th>Social Networking</th>\n",
       "      <th>Satisfaction</th>\n",
       "      <th>Spending</th>\n",
       "      <th>Computer</th>\n",
       "      <th>Text Messages</th>\n",
       "    </tr>\n",
       "  </thead>\n",
       "  <tbody>\n",
       "    <tr>\n",
       "      <th>14</th>\n",
       "      <td>15</td>\n",
       "      <td>Male</td>\n",
       "      <td>21</td>\n",
       "      <td>Senior</td>\n",
       "      <td>Management</td>\n",
       "      <td>Yes</td>\n",
       "      <td>3.20</td>\n",
       "      <td>Part-Time</td>\n",
       "      <td>54.00</td>\n",
       "      <td>3</td>\n",
       "      <td>4</td>\n",
       "      <td>600</td>\n",
       "      <td>Laptop</td>\n",
       "      <td>400</td>\n",
       "    </tr>\n",
       "    <tr>\n",
       "      <th>17</th>\n",
       "      <td>18</td>\n",
       "      <td>Male</td>\n",
       "      <td>21</td>\n",
       "      <td>Junior</td>\n",
       "      <td>Economics/Finance</td>\n",
       "      <td>Undecided</td>\n",
       "      <td>3.10</td>\n",
       "      <td>Part-Time</td>\n",
       "      <td>55.00</td>\n",
       "      <td>2</td>\n",
       "      <td>3</td>\n",
       "      <td>600</td>\n",
       "      <td>Laptop</td>\n",
       "      <td>300</td>\n",
       "    </tr>\n",
       "  </tbody>\n",
       "</table>\n",
       "</div>"
      ],
      "text/plain": [
       "    ID Gender  Age   Class              Major Grad Intention  GPA Employment  \\\n",
       "14  15   Male   21  Senior         Management            Yes 3.20  Part-Time   \n",
       "17  18   Male   21  Junior  Economics/Finance      Undecided 3.10  Part-Time   \n",
       "\n",
       "    Salary  Social Networking  Satisfaction  Spending Computer  Text Messages  \n",
       "14   54.00                  3             4       600   Laptop            400  \n",
       "17   55.00                  2             3       600   Laptop            300  "
      ]
     },
     "execution_count": 169,
     "metadata": {},
     "output_type": "execute_result"
    }
   ],
   "source": [
    "survey_male50more = survey[(survey[\"Gender\"]==\"Male\")&(survey[\"Salary\"]>=50)]\n",
    "survey_male50more.head(2)"
   ]
  },
  {
   "cell_type": "code",
   "execution_count": 170,
   "id": "80c2c843",
   "metadata": {
    "ExecuteTime": {
     "end_time": "2022-02-27T06:37:46.193508Z",
     "start_time": "2022-02-27T06:37:46.169500Z"
    }
   },
   "outputs": [
    {
     "data": {
      "text/plain": [
       "14"
      ]
     },
     "execution_count": 170,
     "metadata": {},
     "output_type": "execute_result"
    }
   ],
   "source": [
    "len(survey_male50more[\"Salary\"])"
   ]
  },
  {
   "cell_type": "code",
   "execution_count": 171,
   "id": "574c5e44",
   "metadata": {
    "ExecuteTime": {
     "end_time": "2022-02-27T06:39:49.865115Z",
     "start_time": "2022-02-27T06:39:49.809107Z"
    }
   },
   "outputs": [
    {
     "data": {
      "text/html": [
       "<div>\n",
       "<style scoped>\n",
       "    .dataframe tbody tr th:only-of-type {\n",
       "        vertical-align: middle;\n",
       "    }\n",
       "\n",
       "    .dataframe tbody tr th {\n",
       "        vertical-align: top;\n",
       "    }\n",
       "\n",
       "    .dataframe thead th {\n",
       "        text-align: right;\n",
       "    }\n",
       "</style>\n",
       "<table border=\"1\" class=\"dataframe\">\n",
       "  <thead>\n",
       "    <tr style=\"text-align: right;\">\n",
       "      <th></th>\n",
       "      <th>ID</th>\n",
       "      <th>Gender</th>\n",
       "      <th>Age</th>\n",
       "      <th>Class</th>\n",
       "      <th>Major</th>\n",
       "      <th>Grad Intention</th>\n",
       "      <th>GPA</th>\n",
       "      <th>Employment</th>\n",
       "      <th>Salary</th>\n",
       "      <th>Social Networking</th>\n",
       "      <th>Satisfaction</th>\n",
       "      <th>Spending</th>\n",
       "      <th>Computer</th>\n",
       "      <th>Text Messages</th>\n",
       "    </tr>\n",
       "  </thead>\n",
       "  <tbody>\n",
       "    <tr>\n",
       "      <th>0</th>\n",
       "      <td>1</td>\n",
       "      <td>Female</td>\n",
       "      <td>20</td>\n",
       "      <td>Junior</td>\n",
       "      <td>Other</td>\n",
       "      <td>Yes</td>\n",
       "      <td>2.90</td>\n",
       "      <td>Full-Time</td>\n",
       "      <td>50.00</td>\n",
       "      <td>1</td>\n",
       "      <td>3</td>\n",
       "      <td>350</td>\n",
       "      <td>Laptop</td>\n",
       "      <td>200</td>\n",
       "    </tr>\n",
       "    <tr>\n",
       "      <th>5</th>\n",
       "      <td>6</td>\n",
       "      <td>Female</td>\n",
       "      <td>22</td>\n",
       "      <td>Senior</td>\n",
       "      <td>Economics/Finance</td>\n",
       "      <td>Undecided</td>\n",
       "      <td>2.30</td>\n",
       "      <td>Unemployed</td>\n",
       "      <td>78.00</td>\n",
       "      <td>3</td>\n",
       "      <td>2</td>\n",
       "      <td>700</td>\n",
       "      <td>Laptop</td>\n",
       "      <td>30</td>\n",
       "    </tr>\n",
       "  </tbody>\n",
       "</table>\n",
       "</div>"
      ],
      "text/plain": [
       "   ID  Gender  Age   Class              Major Grad Intention  GPA  Employment  \\\n",
       "0   1  Female   20  Junior              Other            Yes 2.90   Full-Time   \n",
       "5   6  Female   22  Senior  Economics/Finance      Undecided 2.30  Unemployed   \n",
       "\n",
       "   Salary  Social Networking  Satisfaction  Spending Computer  Text Messages  \n",
       "0   50.00                  1             3       350   Laptop            200  \n",
       "5   78.00                  3             2       700   Laptop             30  "
      ]
     },
     "execution_count": 171,
     "metadata": {},
     "output_type": "execute_result"
    }
   ],
   "source": [
    "surveym50 = survey[survey[\"Salary\"]>=50]\n",
    "surveym50.head(2)"
   ]
  },
  {
   "cell_type": "code",
   "execution_count": 173,
   "id": "bce477fd",
   "metadata": {
    "ExecuteTime": {
     "end_time": "2022-02-27T06:40:36.341505Z",
     "start_time": "2022-02-27T06:40:36.325483Z"
    }
   },
   "outputs": [
    {
     "data": {
      "text/plain": [
       "32"
      ]
     },
     "execution_count": 173,
     "metadata": {},
     "output_type": "execute_result"
    }
   ],
   "source": [
    "len(surveym50[\"Salary\"])"
   ]
  },
  {
   "cell_type": "code",
   "execution_count": 174,
   "id": "fe59ce4f",
   "metadata": {
    "ExecuteTime": {
     "end_time": "2022-02-27T06:41:27.982616Z",
     "start_time": "2022-02-27T06:41:27.958617Z"
    }
   },
   "outputs": [
    {
     "data": {
      "text/plain": [
       "0.4375"
      ]
     },
     "execution_count": 174,
     "metadata": {},
     "output_type": "execute_result"
    }
   ],
   "source": [
    "p_malegivemorethan50 = len(survey_male50more[\"Salary\"])/len(surveym50[\"Salary\"])\n",
    "p_malegivemorethan50"
   ]
  },
  {
   "cell_type": "code",
   "execution_count": 175,
   "id": "0589d8bc",
   "metadata": {
    "ExecuteTime": {
     "end_time": "2022-02-27T06:43:29.051571Z",
     "start_time": "2022-02-27T06:43:28.947558Z"
    }
   },
   "outputs": [
    {
     "data": {
      "text/html": [
       "<div>\n",
       "<style scoped>\n",
       "    .dataframe tbody tr th:only-of-type {\n",
       "        vertical-align: middle;\n",
       "    }\n",
       "\n",
       "    .dataframe tbody tr th {\n",
       "        vertical-align: top;\n",
       "    }\n",
       "\n",
       "    .dataframe thead th {\n",
       "        text-align: right;\n",
       "    }\n",
       "</style>\n",
       "<table border=\"1\" class=\"dataframe\">\n",
       "  <thead>\n",
       "    <tr style=\"text-align: right;\">\n",
       "      <th></th>\n",
       "      <th>ID</th>\n",
       "      <th>Gender</th>\n",
       "      <th>Age</th>\n",
       "      <th>Class</th>\n",
       "      <th>Major</th>\n",
       "      <th>Grad Intention</th>\n",
       "      <th>GPA</th>\n",
       "      <th>Employment</th>\n",
       "      <th>Salary</th>\n",
       "      <th>Social Networking</th>\n",
       "      <th>Satisfaction</th>\n",
       "      <th>Spending</th>\n",
       "      <th>Computer</th>\n",
       "      <th>Text Messages</th>\n",
       "    </tr>\n",
       "  </thead>\n",
       "  <tbody>\n",
       "    <tr>\n",
       "      <th>0</th>\n",
       "      <td>1</td>\n",
       "      <td>Female</td>\n",
       "      <td>20</td>\n",
       "      <td>Junior</td>\n",
       "      <td>Other</td>\n",
       "      <td>Yes</td>\n",
       "      <td>2.90</td>\n",
       "      <td>Full-Time</td>\n",
       "      <td>50.00</td>\n",
       "      <td>1</td>\n",
       "      <td>3</td>\n",
       "      <td>350</td>\n",
       "      <td>Laptop</td>\n",
       "      <td>200</td>\n",
       "    </tr>\n",
       "    <tr>\n",
       "      <th>5</th>\n",
       "      <td>6</td>\n",
       "      <td>Female</td>\n",
       "      <td>22</td>\n",
       "      <td>Senior</td>\n",
       "      <td>Economics/Finance</td>\n",
       "      <td>Undecided</td>\n",
       "      <td>2.30</td>\n",
       "      <td>Unemployed</td>\n",
       "      <td>78.00</td>\n",
       "      <td>3</td>\n",
       "      <td>2</td>\n",
       "      <td>700</td>\n",
       "      <td>Laptop</td>\n",
       "      <td>30</td>\n",
       "    </tr>\n",
       "  </tbody>\n",
       "</table>\n",
       "</div>"
      ],
      "text/plain": [
       "   ID  Gender  Age   Class              Major Grad Intention  GPA  Employment  \\\n",
       "0   1  Female   20  Junior              Other            Yes 2.90   Full-Time   \n",
       "5   6  Female   22  Senior  Economics/Finance      Undecided 2.30  Unemployed   \n",
       "\n",
       "   Salary  Social Networking  Satisfaction  Spending Computer  Text Messages  \n",
       "0   50.00                  1             3       350   Laptop            200  \n",
       "5   78.00                  3             2       700   Laptop             30  "
      ]
     },
     "execution_count": 175,
     "metadata": {},
     "output_type": "execute_result"
    }
   ],
   "source": [
    "survey_female50more = survey[(survey[\"Gender\"]==\"Female\")&(survey[\"Salary\"]>=50)]\n",
    "survey_female50more.head(2)"
   ]
  },
  {
   "cell_type": "code",
   "execution_count": 176,
   "id": "f2465f0b",
   "metadata": {
    "ExecuteTime": {
     "end_time": "2022-02-27T06:43:55.715016Z",
     "start_time": "2022-02-27T06:43:55.691016Z"
    }
   },
   "outputs": [
    {
     "data": {
      "text/plain": [
       "18"
      ]
     },
     "execution_count": 176,
     "metadata": {},
     "output_type": "execute_result"
    }
   ],
   "source": [
    "len(survey_female50more[\"Salary\"])"
   ]
  },
  {
   "cell_type": "code",
   "execution_count": 177,
   "id": "34e7bec5",
   "metadata": {
    "ExecuteTime": {
     "end_time": "2022-02-27T06:46:05.339948Z",
     "start_time": "2022-02-27T06:46:05.243936Z"
    }
   },
   "outputs": [
    {
     "data": {
      "text/plain": [
       "0.56"
      ]
     },
     "execution_count": 177,
     "metadata": {},
     "output_type": "execute_result"
    }
   ],
   "source": [
    "p_femalegivemorethan50 = len(survey_female50more[\"Salary\"])/len(surveym50[\"Salary\"])\n",
    "round(p_femalegivemorethan50,2)"
   ]
  },
  {
   "cell_type": "markdown",
   "id": "8131c7bc",
   "metadata": {},
   "source": [
    "## Note that there are four numerical (continuous) variables in the data set, GPA, Salary, Spending, and Text Messages. For each of them comment whether they follow a normal distribution. Write a note summarizing your conclusions."
   ]
  },
  {
   "cell_type": "code",
   "execution_count": 179,
   "id": "34eb914b",
   "metadata": {
    "ExecuteTime": {
     "end_time": "2022-02-27T06:56:47.626944Z",
     "start_time": "2022-02-27T06:56:47.613943Z"
    }
   },
   "outputs": [
    {
     "data": {
      "text/plain": [
       "3.13"
      ]
     },
     "execution_count": 179,
     "metadata": {},
     "output_type": "execute_result"
    }
   ],
   "source": [
    "round(survey[\"GPA\"].mean(),2)"
   ]
  },
  {
   "cell_type": "code",
   "execution_count": 181,
   "id": "0cb7d428",
   "metadata": {
    "ExecuteTime": {
     "end_time": "2022-02-27T06:57:32.851850Z",
     "start_time": "2022-02-27T06:57:32.833848Z"
    }
   },
   "outputs": [
    {
     "data": {
      "text/plain": [
       "3.15"
      ]
     },
     "execution_count": 181,
     "metadata": {},
     "output_type": "execute_result"
    }
   ],
   "source": [
    "round(survey[\"GPA\"].median(),2)"
   ]
  },
  {
   "cell_type": "code",
   "execution_count": 182,
   "id": "e938317e",
   "metadata": {
    "ExecuteTime": {
     "end_time": "2022-02-27T06:57:53.630264Z",
     "start_time": "2022-02-27T06:57:53.557443Z"
    }
   },
   "outputs": [
    {
     "data": {
      "text/plain": [
       "0   3.00\n",
       "1   3.10\n",
       "2   3.40\n",
       "dtype: float64"
      ]
     },
     "execution_count": 182,
     "metadata": {},
     "output_type": "execute_result"
    }
   ],
   "source": [
    "round(survey[\"GPA\"].mode(),2)"
   ]
  },
  {
   "cell_type": "code",
   "execution_count": 183,
   "id": "85004dc7",
   "metadata": {
    "ExecuteTime": {
     "end_time": "2022-02-27T06:58:33.700415Z",
     "start_time": "2022-02-27T06:58:31.770157Z"
    }
   },
   "outputs": [
    {
     "data": {
      "image/png": "[encoded data removed]",
      "text/plain": [
       "<Figure size 432x288 with 1 Axes>"
      ]
     },
     "metadata": {
      "needs_background": "light"
     },
     "output_type": "display_data"
    }
   ],
   "source": [
    "sns.distplot(survey[\"GPA\"]);"
   ]
  },
  {
   "cell_type": "code",
   "execution_count": 184,
   "id": "a5c1a215",
   "metadata": {
    "ExecuteTime": {
     "end_time": "2022-02-27T07:01:01.452202Z",
     "start_time": "2022-02-27T07:01:01.432187Z"
    }
   },
   "outputs": [
    {
     "data": {
      "text/plain": [
       "48.55"
      ]
     },
     "execution_count": 184,
     "metadata": {},
     "output_type": "execute_result"
    }
   ],
   "source": [
    "round(survey[\"Salary\"].mean(),2)"
   ]
  },
  {
   "cell_type": "code",
   "execution_count": 185,
   "id": "702b9070",
   "metadata": {
    "ExecuteTime": {
     "end_time": "2022-02-27T07:01:24.481688Z",
     "start_time": "2022-02-27T07:01:24.450673Z"
    }
   },
   "outputs": [
    {
     "data": {
      "text/plain": [
       "50.0"
      ]
     },
     "execution_count": 185,
     "metadata": {},
     "output_type": "execute_result"
    }
   ],
   "source": [
    "round(survey[\"Salary\"].median(),2)"
   ]
  },
  {
   "cell_type": "code",
   "execution_count": 186,
   "id": "96dfc5f2",
   "metadata": {
    "ExecuteTime": {
     "end_time": "2022-02-27T07:01:42.169840Z",
     "start_time": "2022-02-27T07:01:42.122161Z"
    }
   },
   "outputs": [
    {
     "data": {
      "text/plain": [
       "0   40.00\n",
       "dtype: float64"
      ]
     },
     "execution_count": 186,
     "metadata": {},
     "output_type": "execute_result"
    }
   ],
   "source": [
    "round(survey[\"Salary\"].mode(),2)"
   ]
  },
  {
   "cell_type": "code",
   "execution_count": 187,
   "id": "6c848938",
   "metadata": {
    "ExecuteTime": {
     "end_time": "2022-02-27T07:01:57.076459Z",
     "start_time": "2022-02-27T07:01:56.268817Z"
    }
   },
   "outputs": [
    {
     "data": {
      "image/png": "[encoded data removed]",
      "text/plain": [
       "<Figure size 432x288 with 1 Axes>"
      ]
     },
     "metadata": {
      "needs_background": "light"
     },
     "output_type": "display_data"
    }
   ],
   "source": [
    "sns.distplot(survey[\"Salary\"]);"
   ]
  },
  {
   "cell_type": "code",
   "execution_count": 188,
   "id": "5168bd1a",
   "metadata": {
    "ExecuteTime": {
     "end_time": "2022-02-27T07:03:04.927785Z",
     "start_time": "2022-02-27T07:03:04.912127Z"
    }
   },
   "outputs": [
    {
     "data": {
      "text/plain": [
       "482.02"
      ]
     },
     "execution_count": 188,
     "metadata": {},
     "output_type": "execute_result"
    }
   ],
   "source": [
    "round(survey[\"Spending\"].mean(),2)"
   ]
  },
  {
   "cell_type": "code",
   "execution_count": 189,
   "id": "02346b0d",
   "metadata": {
    "ExecuteTime": {
     "end_time": "2022-02-27T07:03:23.591858Z",
     "start_time": "2022-02-27T07:03:23.572853Z"
    }
   },
   "outputs": [
    {
     "data": {
      "text/plain": [
       "500.0"
      ]
     },
     "execution_count": 189,
     "metadata": {},
     "output_type": "execute_result"
    }
   ],
   "source": [
    "round(survey[\"Spending\"].median(),2)"
   ]
  },
  {
   "cell_type": "code",
   "execution_count": 190,
   "id": "a4e87c46",
   "metadata": {
    "ExecuteTime": {
     "end_time": "2022-02-27T07:03:54.233514Z",
     "start_time": "2022-02-27T07:03:54.135240Z"
    }
   },
   "outputs": [
    {
     "data": {
      "text/plain": [
       "0    500\n",
       "dtype: int64"
      ]
     },
     "execution_count": 190,
     "metadata": {},
     "output_type": "execute_result"
    }
   ],
   "source": [
    "round(survey[\"Spending\"].mode(),2)"
   ]
  },
  {
   "cell_type": "code",
   "execution_count": 191,
   "id": "4b014eed",
   "metadata": {
    "ExecuteTime": {
     "end_time": "2022-02-27T07:03:56.255897Z",
     "start_time": "2022-02-27T07:03:55.288994Z"
    }
   },
   "outputs": [
    {
     "data": {
      "image/png": "[encoded data removed]",
      "text/plain": [
       "<Figure size 432x288 with 1 Axes>"
      ]
     },
     "metadata": {
      "needs_background": "light"
     },
     "output_type": "display_data"
    }
   ],
   "source": [
    "sns.distplot(survey[\"Spending\"]);"
   ]
  },
  {
   "cell_type": "code",
   "execution_count": 192,
   "id": "867e2635",
   "metadata": {
    "ExecuteTime": {
     "end_time": "2022-02-27T07:04:45.428442Z",
     "start_time": "2022-02-27T07:04:44.671594Z"
    }
   },
   "outputs": [
    {
     "data": {
      "image/png": "[encoded data removed]",
      "text/plain": [
       "<Figure size 432x288 with 1 Axes>"
      ]
     },
     "metadata": {
      "needs_background": "light"
     },
     "output_type": "display_data"
    }
   ],
   "source": [
    "sns.distplot(survey[\"Text Messages\"]);"
   ]
  },
  {
   "cell_type": "code",
   "execution_count": 193,
   "id": "c869160c",
   "metadata": {
    "ExecuteTime": {
     "end_time": "2022-02-27T07:05:16.662386Z",
     "start_time": "2022-02-27T07:05:16.643386Z"
    }
   },
   "outputs": [
    {
     "data": {
      "text/plain": [
       "246.21"
      ]
     },
     "execution_count": 193,
     "metadata": {},
     "output_type": "execute_result"
    }
   ],
   "source": [
    "round(survey[\"Text Messages\"].mean(),2)"
   ]
  },
  {
   "cell_type": "code",
   "execution_count": 194,
   "id": "52bc6f68",
   "metadata": {
    "ExecuteTime": {
     "end_time": "2022-02-27T07:05:30.651323Z",
     "start_time": "2022-02-27T07:05:30.626313Z"
    }
   },
   "outputs": [
    {
     "data": {
      "text/plain": [
       "200.0"
      ]
     },
     "execution_count": 194,
     "metadata": {},
     "output_type": "execute_result"
    }
   ],
   "source": [
    "round(survey[\"Text Messages\"].median(),2)"
   ]
  },
  {
   "cell_type": "code",
   "execution_count": 195,
   "id": "ff199cc5",
   "metadata": {
    "ExecuteTime": {
     "end_time": "2022-02-27T07:05:43.166398Z",
     "start_time": "2022-02-27T07:05:43.140336Z"
    }
   },
   "outputs": [
    {
     "data": {
      "text/plain": [
       "0    300\n",
       "dtype: int64"
      ]
     },
     "execution_count": 195,
     "metadata": {},
     "output_type": "execute_result"
    }
   ],
   "source": [
    "round(survey[\"Text Messages\"].mode(),2)"
   ]
  },
  {
   "cell_type": "markdown",
   "id": "1c0e1ac0",
   "metadata": {},
   "source": [
    "# ABC asphalt shingles"
   ]
  },
  {
   "cell_type": "markdown",
   "id": "2ea0ada7",
   "metadata": {},
   "source": [
    "<b>An important quality characteristic used by the manufacturers of ABC asphalt shingles is the amount of moisture the shingles contain when they are packaged. Customers may feel that they have purchased a product lacking in quality if they find moisture and wet shingles inside the packaging.   In some cases, excessive moisture can cause the granules attached to the shingles for texture and coloring purposes to fall off the shingles resulting in appearance problems. To monitor the amount of moisture present, the company conducts moisture tests. A shingle is weighed and then dried. The shingle is then reweighed, and based on the amount of moisture taken out of the product, the pounds of moisture per 100 square feet are calculated. The company would like to show that the mean moisture content is less than 0.35 pounds per 100 square feet.\n",
    "  \n",
    "<b>The file (A & B shingles.csv) includes 36 measurements (in pounds per 100 square feet) for A shingles and 31 for B shingles."
   ]
  },
  {
   "cell_type": "code",
   "execution_count": 198,
   "id": "11bda668",
   "metadata": {
    "ExecuteTime": {
     "end_time": "2022-02-27T09:45:30.163029Z",
     "start_time": "2022-02-27T09:45:30.131064Z"
    }
   },
   "outputs": [],
   "source": [
    "asphaltshingles = pd.read_csv(\"A & B shingles.csv\")"
   ]
  },
  {
   "cell_type": "markdown",
   "id": "5d22ffca",
   "metadata": {},
   "source": [
    "<b>Exploratory Data Analysis"
   ]
  },
  {
   "cell_type": "code",
   "execution_count": 202,
   "id": "3dbcabcf",
   "metadata": {
    "ExecuteTime": {
     "end_time": "2022-02-27T09:46:47.199698Z",
     "start_time": "2022-02-27T09:46:47.175693Z"
    }
   },
   "outputs": [
    {
     "data": {
      "text/html": [
       "<div>\n",
       "<style scoped>\n",
       "    .dataframe tbody tr th:only-of-type {\n",
       "        vertical-align: middle;\n",
       "    }\n",
       "\n",
       "    .dataframe tbody tr th {\n",
       "        vertical-align: top;\n",
       "    }\n",
       "\n",
       "    .dataframe thead th {\n",
       "        text-align: right;\n",
       "    }\n",
       "</style>\n",
       "<table border=\"1\" class=\"dataframe\">\n",
       "  <thead>\n",
       "    <tr style=\"text-align: right;\">\n",
       "      <th></th>\n",
       "      <th>A</th>\n",
       "      <th>B</th>\n",
       "    </tr>\n",
       "  </thead>\n",
       "  <tbody>\n",
       "    <tr>\n",
       "      <th>0</th>\n",
       "      <td>0.44</td>\n",
       "      <td>0.14</td>\n",
       "    </tr>\n",
       "    <tr>\n",
       "      <th>1</th>\n",
       "      <td>0.61</td>\n",
       "      <td>0.15</td>\n",
       "    </tr>\n",
       "    <tr>\n",
       "      <th>2</th>\n",
       "      <td>0.47</td>\n",
       "      <td>0.31</td>\n",
       "    </tr>\n",
       "    <tr>\n",
       "      <th>3</th>\n",
       "      <td>0.30</td>\n",
       "      <td>0.16</td>\n",
       "    </tr>\n",
       "    <tr>\n",
       "      <th>4</th>\n",
       "      <td>0.15</td>\n",
       "      <td>0.37</td>\n",
       "    </tr>\n",
       "  </tbody>\n",
       "</table>\n",
       "</div>"
      ],
      "text/plain": [
       "     A    B\n",
       "0 0.44 0.14\n",
       "1 0.61 0.15\n",
       "2 0.47 0.31\n",
       "3 0.30 0.16\n",
       "4 0.15 0.37"
      ]
     },
     "execution_count": 202,
     "metadata": {},
     "output_type": "execute_result"
    }
   ],
   "source": [
    "asphaltshingles.head()"
   ]
  },
  {
   "cell_type": "code",
   "execution_count": 203,
   "id": "4ae305e4",
   "metadata": {
    "ExecuteTime": {
     "end_time": "2022-02-27T09:47:21.521471Z",
     "start_time": "2022-02-27T09:47:21.489470Z"
    }
   },
   "outputs": [
    {
     "name": "stdout",
     "output_type": "stream",
     "text": [
      "<class 'pandas.core.frame.DataFrame'>\n",
      "RangeIndex: 36 entries, 0 to 35\n",
      "Data columns (total 2 columns):\n",
      " #   Column  Non-Null Count  Dtype  \n",
      "---  ------  --------------  -----  \n",
      " 0   A       36 non-null     float64\n",
      " 1   B       31 non-null     float64\n",
      "dtypes: float64(2)\n",
      "memory usage: 704.0 bytes\n"
     ]
    }
   ],
   "source": [
    "asphaltshingles.info()"
   ]
  },
  {
   "cell_type": "code",
   "execution_count": 217,
   "id": "11fb0e6b",
   "metadata": {
    "ExecuteTime": {
     "end_time": "2022-02-27T09:59:38.307562Z",
     "start_time": "2022-02-27T09:59:38.283562Z"
    }
   },
   "outputs": [
    {
     "data": {
      "text/plain": [
       "array([0.44, 0.61, 0.47, 0.3 , 0.15, 0.24, 0.16, 0.2 , 0.2 , 0.2 , 0.26,\n",
       "       0.14, 0.33, 0.13, 0.72, 0.51, 0.28, 0.39, 0.39, 0.25, 0.16, 0.2 ,\n",
       "       0.22, 0.42, 0.24, 0.21, 0.49, 0.34, 0.36, 0.29, 0.27, 0.4 , 0.29,\n",
       "       0.43, 0.34, 0.37])"
      ]
     },
     "execution_count": 217,
     "metadata": {},
     "output_type": "execute_result"
    }
   ],
   "source": [
    "a_data = np.array(asphaltshingles.iloc[0:,0])\n",
    "a_data"
   ]
  },
  {
   "cell_type": "code",
   "execution_count": 219,
   "id": "d68f234a",
   "metadata": {
    "ExecuteTime": {
     "end_time": "2022-02-27T10:02:32.396775Z",
     "start_time": "2022-02-27T10:02:32.316763Z"
    }
   },
   "outputs": [
    {
     "name": "stdout",
     "output_type": "stream",
     "text": [
      "Mean is  0.32 \n",
      " Std is  0.14\n"
     ]
    }
   ],
   "source": [
    "a_mean = np.round(a_data.mean(),2)\n",
    "a_std = np.round(np.std(a_data,ddof=1),2)\n",
    "print(\"Mean is \",a_mean,\"\\n Std is \",a_std)"
   ]
  },
  {
   "cell_type": "code",
   "execution_count": 220,
   "id": "233d27ee",
   "metadata": {
    "ExecuteTime": {
     "end_time": "2022-02-27T10:02:59.103717Z",
     "start_time": "2022-02-27T10:02:59.079716Z"
    }
   },
   "outputs": [
    {
     "data": {
      "text/plain": [
       "array([0.14, 0.15, 0.31, 0.16, 0.37, 0.18, 0.42, 0.58, 0.25, 0.41, 0.17,\n",
       "       0.13, 0.23, 0.11, 0.1 , 0.19, 0.22, 0.44, 0.11, 0.11, 0.31, 0.43,\n",
       "       0.26, 0.18, 0.44, 0.43, 0.16, 0.52, 0.36, 0.22, 0.39])"
      ]
     },
     "execution_count": 220,
     "metadata": {},
     "output_type": "execute_result"
    }
   ],
   "source": [
    "b_data = np.array(asphaltshingles.iloc[0:31,1])\n",
    "b_data"
   ]
  },
  {
   "cell_type": "code",
   "execution_count": 221,
   "id": "aa7836c7",
   "metadata": {
    "ExecuteTime": {
     "end_time": "2022-02-27T10:03:51.126368Z",
     "start_time": "2022-02-27T10:03:51.046360Z"
    }
   },
   "outputs": [
    {
     "name": "stdout",
     "output_type": "stream",
     "text": [
      "Mean is  0.27 \n",
      " Std is  0.14\n"
     ]
    }
   ],
   "source": [
    "b_mean = np.round(b_data.mean(),2)\n",
    "b_std = np.round(np.std(b_data,ddof=1),2)\n",
    "print(\"Mean is \",b_mean,\"\\n Std is \",b_std)"
   ]
  },
  {
   "cell_type": "markdown",
   "id": "67120895",
   "metadata": {},
   "source": [
    "## Do you think there is evidence that means moisture contents in both types of shingles are within the permissible limits? State your conclusions clearly showing all steps."
   ]
  },
  {
   "cell_type": "markdown",
   "id": "d853bb62",
   "metadata": {},
   "source": [
    "<b> For both types"
   ]
  },
  {
   "cell_type": "markdown",
   "id": "a31cc3eb",
   "metadata": {},
   "source": [
    "<b>Step 1:  \n",
    "H0 : μ <= 0.35<br>\n",
    "Ha : μ > 0.35"
   ]
  },
  {
   "cell_type": "markdown",
   "id": "da9b0938",
   "metadata": {},
   "source": [
    "<b>Step 2:  \n",
    "Assume level of significance, alpha = 0.05"
   ]
  },
  {
   "cell_type": "markdown",
   "id": "650191e8",
   "metadata": {},
   "source": [
    "<b>Step 3:<br>\n",
    "1 Sample t test will be done as population std is not known"
   ]
  },
  {
   "cell_type": "markdown",
   "id": "c1d960f5",
   "metadata": {},
   "source": [
    "<b>Step 4:<br>Test Statistic and p value are calculated for both the types"
   ]
  },
  {
   "cell_type": "code",
   "execution_count": 226,
   "id": "27e30971",
   "metadata": {
    "ExecuteTime": {
     "end_time": "2022-02-27T10:25:54.180263Z",
     "start_time": "2022-02-27T10:25:54.156262Z"
    }
   },
   "outputs": [
    {
     "name": "stdout",
     "output_type": "stream",
     "text": [
      "A type test Statistic value is  -1.47 \n",
      "A type p value is  0.07\n",
      "\n",
      "B type test Statistic value is  -3.1 \n",
      "B type p value is  0.0021\n"
     ]
    }
   ],
   "source": [
    "a_t_statistic, a_pvalue = stats.ttest_1samp(a_data,0.35)\n",
    "print(\"A type test Statistic value is \",np.round(a_t_statistic,2),\"\\nA type p value is \",np.round(a_pvalue/2,2))\n",
    "b_t_statistic, b_pvalue = stats.ttest_1samp(b_data,0.35)\n",
    "print(\"\\nB type test Statistic value is \",np.round(b_t_statistic,2),\"\\nB type p value is \",np.round(b_pvalue/2,4))"
   ]
  },
  {
   "cell_type": "markdown",
   "id": "615147ad",
   "metadata": {},
   "source": [
    "<b>Step 5:\n",
    "<b>Here, we can see that p value of type a is 0.07 and is greater than the level of significance (0.05).\n",
    "Hence for type A, we fail to reject the null hypothesis and conclude that the mean moisture content is less than or equal to 0.35. \n",
    "    \n",
    "<b>For Type B, the p value is 0.0021 and is less than the level of significance (0.05). Here, we reject the null hypothesis and conclude that the mean moisture content is greater than 0.35. Hence, the company needs to take immediate measures in the quality control process for Type B Asphalt Shingles."
   ]
  },
  {
   "cell_type": "markdown",
   "id": "637dcd0e",
   "metadata": {},
   "source": [
    "## Do you think that the population mean for shingles A and B are equal? Form the hypothesis and conduct the test of the hypothesis. What assumption do you need to check before the test for equality of means is performed?"
   ]
  },
  {
   "cell_type": "markdown",
   "id": "81c9ceda",
   "metadata": {
    "ExecuteTime": {
     "end_time": "2022-02-27T10:42:54.048251Z",
     "start_time": "2022-02-27T10:42:53.944240Z"
    }
   },
   "source": [
    "<b>Step 1:  \n",
    "H0 : a_mean - b_mean = 0<br>\n",
    "Ha : a_mean - b_mean != 0"
   ]
  },
  {
   "cell_type": "markdown",
   "id": "83fc1c3c",
   "metadata": {},
   "source": [
    "<b>Step 2:  \n",
    "Assume level of significance, alpha = 0.05"
   ]
  },
  {
   "cell_type": "markdown",
   "id": "218da7df",
   "metadata": {},
   "source": [
    "<b>Step 3:<br>\n",
    "We have two independent samples with different sample sizes.<br>\n",
    "The Population std is not known.<br>\n",
    "We need to compare means of the two samples.<br> \n",
    "Hence, we will perform 2 Sample unpaired t test assuming the variances of both the samples are identical. "
   ]
  },
  {
   "cell_type": "markdown",
   "id": "c3243fb2",
   "metadata": {
    "ExecuteTime": {
     "end_time": "2022-02-27T10:50:46.220979Z",
     "start_time": "2022-02-27T10:50:46.196976Z"
    }
   },
   "source": [
    "<b>Step 4:<br>Test Statistic and p value are calculated"
   ]
  },
  {
   "cell_type": "code",
   "execution_count": 256,
   "id": "6f81614b",
   "metadata": {
    "ExecuteTime": {
     "end_time": "2022-02-27T18:10:34.284995Z",
     "start_time": "2022-02-27T18:10:30.984167Z"
    }
   },
   "outputs": [
    {
     "name": "stdout",
     "output_type": "stream",
     "text": [
      "Test Statistic value is  1.29 \n",
      "p value is  0.2\n"
     ]
    }
   ],
   "source": [
    "ab_t_statistic, ab_pvalue = stats.ttest_ind(a_data,b_data)\n",
    "print(\"Test Statistic value is \",np.round(ab_t_statistic,2),\"\\np value is \",np.round(ab_pvalue,2))"
   ]
  },
  {
   "cell_type": "markdown",
   "id": "4a119e73",
   "metadata": {},
   "source": [
    "<b>Step 5:<br>\n",
    "<b>Here, we can see that p value is 0.2 and is greater than the level of significance (0.05).\n",
    "Hence, we fail to reject the null hypothesis and conclude that the population mean for both the types are equal"
   ]
  },
  {
   "cell_type": "code",
   "execution_count": null,
   "id": "83580d60",
   "metadata": {},
   "outputs": [],
   "source": []
  }
 ],
 "metadata": {
  "kernelspec": {
   "display_name": "Python 3 (ipykernel)",
   "language": "python",
   "name": "python3"
  },
  "language_info": {
   "codemirror_mode": {
    "name": "ipython",
    "version": 3
   },
   "file_extension": ".py",
   "mimetype": "text/x-python",
   "name": "python",
   "nbconvert_exporter": "python",
   "pygments_lexer": "ipython3",
   "version": "3.9.7"
  },
  "latex_envs": {
   "LaTeX_envs_menu_present": true,
   "autoclose": true,
   "autocomplete": true,
   "bibliofile": "biblio.bib",
   "cite_by": "apalike",
   "current_citInitial": 1,
   "eqLabelWithNumbers": true,
   "eqNumInitial": 1,
   "hotkeys": {
    "equation": "Ctrl-E",
    "itemize": "Ctrl-I"
   },
   "labels_anchors": false,
   "latex_user_defs": false,
   "report_style_numbering": false,
   "user_envs_cfg": false
  },
  "toc": {
   "base_numbering": 1,
   "nav_menu": {},
   "number_sections": true,
   "sideBar": true,
   "skip_h1_title": false,
   "title_cell": "Table of Contents",
   "title_sidebar": "Contents",
   "toc_cell": false,
   "toc_position": {},
   "toc_section_display": true,
   "toc_window_display": false
  },
  "varInspector": {
   "cols": {
    "lenName": 16,
    "lenType": 16,
    "lenVar": 40
   },
   "kernels_config": {
    "python": {
     "delete_cmd_postfix": "",
     "delete_cmd_prefix": "del ",
     "library": "var_list.py",
     "varRefreshCmd": "print(var_dic_list())"
    },
    "r": {
     "delete_cmd_postfix": ") ",
     "delete_cmd_prefix": "rm(",
     "library": "var_list.r",
     "varRefreshCmd": "cat(var_dic_list()) "
    }
   },
   "types_to_exclude": [
    "module",
    "function",
    "builtin_function_or_method",
    "instance",
    "_Feature"
   ],
   "window_display": false
  }
 },
 "nbformat": 4,
 "nbformat_minor": 5
}
